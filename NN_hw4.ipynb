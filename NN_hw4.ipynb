{
  "cells": [
    {
      "cell_type": "markdown",
      "metadata": {
        "id": "SOxW5USbs7iH"
      },
      "source": [
        "\n",
        "Вариант 2. (сложный)\n",
        "- реализовать нейронную сеть или стек из сверток (Concatenate) на сifar10.\n",
        "- оценить рост точности при увеличении ширины сети (больше ядер), больше нитей.\n",
        "- оценить рост точности при увеличении глубины сети (больше слоев)\n"
      ]
    },
    {
      "cell_type": "code",
      "execution_count": null,
      "metadata": {
        "colab": {
          "base_uri": "https://localhost:8080/"
        },
        "id": "LVGMopbRtx6c",
        "outputId": "06fc931d-04a1-4cf2-e9b0-de66b0530acd"
      },
      "outputs": [
        {
          "name": "stdout",
          "output_type": "stream",
          "text": [
            "\u001b[K     |████████████████████████████████| 5.3 MB 4.9 MB/s \n",
            "\u001b[K     |████████████████████████████████| 7.6 MB 44.1 MB/s \n",
            "\u001b[K     |████████████████████████████████| 163 kB 44.1 MB/s \n",
            "\u001b[?25h"
          ]
        }
      ],
      "source": [
        "!pip install -qq transformers"
      ]
    },
    {
      "cell_type": "code",
      "execution_count": null,
      "metadata": {
        "id": "4nxNaHjFs7CN"
      },
      "outputs": [],
      "source": [
        "import numpy as np\n",
        "import matplotlib.pyplot as plt\n",
        "import tensorflow as tf\n",
        "\n",
        "from tensorflow.keras.datasets.cifar10 import load_data\n",
        "from albumentations import (\n",
        "    Compose, HueSaturationValue, HorizontalFlip,\n",
        "    Rotate, OneOf, ToGray, RandomBrightnessContrast,\n",
        ")\n",
        "from functools import partial"
      ]
    },
    {
      "cell_type": "code",
      "execution_count": null,
      "metadata": {
        "id": "JE_EM0b8tRtR"
      },
      "outputs": [],
      "source": [
        "batch_size = 32\n",
        "num_classes = 10\n",
        "epochs = 20\n",
        "\n",
        "(x_train, y_train), (x_test, y_test) = load_data()\n",
        "\n",
        "y_train = tf.keras.utils.to_categorical(y_train, num_classes)\n",
        "y_test = tf.keras.utils.to_categorical(y_test, num_classes)\n",
        "\n",
        "x_train = x_train.astype(np.float32) / 255.\n",
        "x_test = x_test.astype(np.float32) / 255."
      ]
    },
    {
      "cell_type": "code",
      "execution_count": null,
      "metadata": {
        "id": "s8HA8OHruFtA"
      },
      "outputs": [],
      "source": [
        "classes = ['самолет', 'автомобиль', 'птица', 'кот', 'олень', 'собака', 'лягушка', 'лошадь', 'корабль', 'грузовик']"
      ]
    },
    {
      "cell_type": "code",
      "execution_count": null,
      "metadata": {
        "id": "sgbkkaJKuL64"
      },
      "outputs": [],
      "source": [
        "model = tf.keras.Sequential()\n",
        "\n",
        "model.add(tf.keras.layers.Conv2D(32, (3,3), padding='same', activation='relu', input_shape=(32,32,3)))\n",
        "model.add(tf.keras.layers.BatchNormalization())\n",
        "model.add(tf.keras.layers.Conv2D(32, (3,3), padding='same', activation='relu'))\n",
        "model.add(tf.keras.layers.BatchNormalization())\n",
        "model.add(tf.keras.layers.MaxPooling2D(pool_size=(2,2)))\n",
        "model.add(tf.keras.layers.Dropout(0.3))\n",
        "\n",
        "model.add(tf.keras.layers.Conv2D(64, (3,3), padding='same', activation='relu'))\n",
        "model.add(tf.keras.layers.BatchNormalization())\n",
        "model.add(tf.keras.layers.Conv2D(64, (3,3), padding='same', activation='relu'))\n",
        "model.add(tf.keras.layers.BatchNormalization())\n",
        "model.add(tf.keras.layers.MaxPooling2D(pool_size=(2,2)))\n",
        "model.add(tf.keras.layers.Dropout(0.5))\n",
        "\n",
        "model.add(tf.keras.layers.Conv2D(128, (3,3), padding='same', activation='relu'))\n",
        "model.add(tf.keras.layers.BatchNormalization())\n",
        "model.add(tf.keras.layers.Conv2D(128, (3,3), padding='same', activation='relu'))\n",
        "model.add(tf.keras.layers.BatchNormalization())\n",
        "model.add(tf.keras.layers.MaxPooling2D(pool_size=(2,2)))\n",
        "model.add(tf.keras.layers.Dropout(0.5))\n",
        "\n",
        "model.add(tf.keras.layers.Flatten())\n",
        "model.add(tf.keras.layers.Dense(128, activation='relu'))\n",
        "model.add(tf.keras.layers.BatchNormalization())\n",
        "model.add(tf.keras.layers.Dropout(0.5))\n",
        "model.add(tf.keras.layers.Dense(num_classes, activation='softmax'))"
      ]
    },
    {
      "cell_type": "code",
      "execution_count": null,
      "metadata": {
        "id": "k7JR9VemuvQD"
      },
      "outputs": [],
      "source": [
        "transforms = Compose([OneOf([\n",
        "                            Rotate(limit=40),\n",
        "                            # ToGray(p=0.5),\n",
        "                            RandomBrightnessContrast(brightness_limit=0.2, contrast_limit=0.2, p=0.9),\n",
        "                            HueSaturationValue(hue_shift_limit=20, sat_shift_limit=30, val_shift_limit=20, p=0.5),\n",
        "                            HorizontalFlip(p=1.),], p=1.0),\n",
        "                            ])\n",
        "\n",
        "def aug_fn(image):  # не нормировать при загрузке датасета!\n",
        "    data = {\"image\":image}\n",
        "    aug_data = transforms(**data)\n",
        "    aug_img = aug_data[\"image\"]\n",
        "    aug_img = tf.cast(aug_img/255.0, tf.float32)\n",
        "    return aug_img\n",
        "\n",
        "def process_image(image, label):\n",
        "    aug_img = tf.numpy_function(func=aug_fn, inp=[image], Tout=tf.float32)\n",
        "    return aug_img, label"
      ]
    },
    {
      "cell_type": "code",
      "execution_count": null,
      "metadata": {
        "id": "BiCoJ9ndu-L2"
      },
      "outputs": [],
      "source": [
        "AUTOTUNE = tf.data.AUTOTUNE\n",
        "# слишком агрессивная аугментация\n",
        "# train_ds = tf.data.Dataset.from_tensor_slices((x_train, y_train)).map(partial(process_image), num_parallel_calls=AUTOTUNE).cache().shuffle(1000).batch(batch_size).prefetch(AUTOTUNE)\n",
        "train_ds = tf.data.Dataset.from_tensor_slices((x_train, y_train)).cache().shuffle(1000).batch(batch_size).prefetch(AUTOTUNE)\n",
        "valid_ds = tf.data.Dataset.from_tensor_slices((x_test, y_test)).cache().batch(batch_size).prefetch(AUTOTUNE)"
      ]
    },
    {
      "cell_type": "code",
      "execution_count": null,
      "metadata": {
        "id": "3Yeu5b0bvWWs"
      },
      "outputs": [],
      "source": [
        "model.compile(loss='categorical_crossentropy', optimizer='adam', metrics=['accuracy'])\n",
        "\n",
        "callbacks = [\n",
        "             tf.keras.callbacks.ReduceLROnPlateau(patience=3),\n",
        "             tf.keras.callbacks.EarlyStopping(monitor='val_loss', patience=6, restore_best_weights=True),\n",
        "            ]"
      ]
    },
    {
      "cell_type": "code",
      "execution_count": null,
      "metadata": {
        "colab": {
          "base_uri": "https://localhost:8080/"
        },
        "id": "adzBtUxMtRqm",
        "outputId": "d7e1ddc5-333e-4965-fdf9-1e026c06fffa"
      },
      "outputs": [
        {
          "name": "stdout",
          "output_type": "stream",
          "text": [
            "Epoch 1/100\n",
            "1563/1563 [==============================] - 23s 9ms/step - loss: 1.7065 - accuracy: 0.4064 - val_loss: 1.2605 - val_accuracy: 0.5360 - lr: 0.0010\n",
            "Epoch 2/100\n",
            "1563/1563 [==============================] - 13s 8ms/step - loss: 1.1586 - accuracy: 0.5864 - val_loss: 0.9732 - val_accuracy: 0.6534 - lr: 0.0010\n",
            "Epoch 3/100\n",
            "1563/1563 [==============================] - 13s 8ms/step - loss: 0.9878 - accuracy: 0.6548 - val_loss: 0.8154 - val_accuracy: 0.7117 - lr: 0.0010\n",
            "Epoch 4/100\n",
            "1563/1563 [==============================] - 12s 8ms/step - loss: 0.8791 - accuracy: 0.6930 - val_loss: 0.8859 - val_accuracy: 0.6974 - lr: 0.0010\n",
            "Epoch 5/100\n",
            "1563/1563 [==============================] - 16s 11ms/step - loss: 0.8047 - accuracy: 0.7213 - val_loss: 0.6815 - val_accuracy: 0.7669 - lr: 0.0010\n",
            "Epoch 6/100\n",
            "1563/1563 [==============================] - 14s 9ms/step - loss: 0.7455 - accuracy: 0.7435 - val_loss: 0.6384 - val_accuracy: 0.7793 - lr: 0.0010\n",
            "Epoch 7/100\n",
            "1563/1563 [==============================] - 13s 8ms/step - loss: 0.7117 - accuracy: 0.7565 - val_loss: 0.6439 - val_accuracy: 0.7737 - lr: 0.0010\n",
            "Epoch 8/100\n",
            "1563/1563 [==============================] - 14s 9ms/step - loss: 0.6727 - accuracy: 0.7703 - val_loss: 0.5580 - val_accuracy: 0.8058 - lr: 0.0010\n",
            "Epoch 9/100\n",
            "1563/1563 [==============================] - 12s 8ms/step - loss: 0.6454 - accuracy: 0.7805 - val_loss: 0.5763 - val_accuracy: 0.8000 - lr: 0.0010\n",
            "Epoch 10/100\n",
            "1563/1563 [==============================] - 12s 8ms/step - loss: 0.6219 - accuracy: 0.7888 - val_loss: 0.5393 - val_accuracy: 0.8152 - lr: 0.0010\n",
            "Epoch 11/100\n",
            "1563/1563 [==============================] - 12s 8ms/step - loss: 0.6014 - accuracy: 0.7950 - val_loss: 0.5240 - val_accuracy: 0.8218 - lr: 0.0010\n",
            "Epoch 12/100\n",
            "1563/1563 [==============================] - 13s 8ms/step - loss: 0.5785 - accuracy: 0.8028 - val_loss: 0.5603 - val_accuracy: 0.8126 - lr: 0.0010\n",
            "Epoch 13/100\n",
            "1563/1563 [==============================] - 12s 8ms/step - loss: 0.5612 - accuracy: 0.8078 - val_loss: 0.5554 - val_accuracy: 0.8118 - lr: 0.0010\n",
            "Epoch 14/100\n",
            "1563/1563 [==============================] - 12s 8ms/step - loss: 0.5504 - accuracy: 0.8125 - val_loss: 0.4929 - val_accuracy: 0.8338 - lr: 0.0010\n",
            "Epoch 15/100\n",
            "1563/1563 [==============================] - 12s 8ms/step - loss: 0.5365 - accuracy: 0.8162 - val_loss: 0.5234 - val_accuracy: 0.8259 - lr: 0.0010\n",
            "Epoch 16/100\n",
            "1563/1563 [==============================] - 12s 8ms/step - loss: 0.5247 - accuracy: 0.8213 - val_loss: 0.5185 - val_accuracy: 0.8259 - lr: 0.0010\n",
            "Epoch 17/100\n",
            "1563/1563 [==============================] - 12s 8ms/step - loss: 0.5110 - accuracy: 0.8247 - val_loss: 0.4860 - val_accuracy: 0.8376 - lr: 0.0010\n",
            "Epoch 18/100\n",
            "1563/1563 [==============================] - 12s 8ms/step - loss: 0.5046 - accuracy: 0.8276 - val_loss: 0.4778 - val_accuracy: 0.8395 - lr: 0.0010\n",
            "Epoch 19/100\n",
            "1563/1563 [==============================] - 12s 8ms/step - loss: 0.5039 - accuracy: 0.8295 - val_loss: 0.4630 - val_accuracy: 0.8433 - lr: 0.0010\n",
            "Epoch 20/100\n",
            "1563/1563 [==============================] - 12s 8ms/step - loss: 0.4871 - accuracy: 0.8340 - val_loss: 0.5233 - val_accuracy: 0.8238 - lr: 0.0010\n",
            "Epoch 21/100\n",
            "1563/1563 [==============================] - 12s 8ms/step - loss: 0.4766 - accuracy: 0.8372 - val_loss: 0.4778 - val_accuracy: 0.8374 - lr: 0.0010\n",
            "Epoch 22/100\n",
            "1563/1563 [==============================] - 12s 8ms/step - loss: 0.4682 - accuracy: 0.8389 - val_loss: 0.4566 - val_accuracy: 0.8482 - lr: 0.0010\n",
            "Epoch 23/100\n",
            "1563/1563 [==============================] - 12s 8ms/step - loss: 0.4623 - accuracy: 0.8422 - val_loss: 0.4423 - val_accuracy: 0.8533 - lr: 0.0010\n",
            "Epoch 24/100\n",
            "1563/1563 [==============================] - 12s 8ms/step - loss: 0.4570 - accuracy: 0.8432 - val_loss: 0.4359 - val_accuracy: 0.8550 - lr: 0.0010\n",
            "Epoch 25/100\n",
            "1563/1563 [==============================] - 12s 8ms/step - loss: 0.4536 - accuracy: 0.8457 - val_loss: 0.4435 - val_accuracy: 0.8539 - lr: 0.0010\n",
            "Epoch 26/100\n",
            "1563/1563 [==============================] - 12s 8ms/step - loss: 0.4472 - accuracy: 0.8469 - val_loss: 0.4406 - val_accuracy: 0.8530 - lr: 0.0010\n",
            "Epoch 27/100\n",
            "1563/1563 [==============================] - 12s 8ms/step - loss: 0.4362 - accuracy: 0.8501 - val_loss: 0.4229 - val_accuracy: 0.8569 - lr: 0.0010\n",
            "Epoch 28/100\n",
            "1563/1563 [==============================] - 14s 9ms/step - loss: 0.4335 - accuracy: 0.8514 - val_loss: 0.4563 - val_accuracy: 0.8477 - lr: 0.0010\n",
            "Epoch 29/100\n",
            "1563/1563 [==============================] - 12s 8ms/step - loss: 0.4318 - accuracy: 0.8524 - val_loss: 0.4257 - val_accuracy: 0.8579 - lr: 0.0010\n",
            "Epoch 30/100\n",
            "1563/1563 [==============================] - 12s 8ms/step - loss: 0.4242 - accuracy: 0.8544 - val_loss: 0.4388 - val_accuracy: 0.8561 - lr: 0.0010\n",
            "Epoch 31/100\n",
            "1563/1563 [==============================] - 12s 8ms/step - loss: 0.3831 - accuracy: 0.8693 - val_loss: 0.3935 - val_accuracy: 0.8691 - lr: 1.0000e-04\n",
            "Epoch 32/100\n",
            "1563/1563 [==============================] - 12s 8ms/step - loss: 0.3634 - accuracy: 0.8766 - val_loss: 0.3899 - val_accuracy: 0.8704 - lr: 1.0000e-04\n",
            "Epoch 33/100\n",
            "1563/1563 [==============================] - 12s 8ms/step - loss: 0.3602 - accuracy: 0.8756 - val_loss: 0.3885 - val_accuracy: 0.8707 - lr: 1.0000e-04\n",
            "Epoch 34/100\n",
            "1563/1563 [==============================] - 12s 8ms/step - loss: 0.3504 - accuracy: 0.8783 - val_loss: 0.3866 - val_accuracy: 0.8722 - lr: 1.0000e-04\n",
            "Epoch 35/100\n",
            "1563/1563 [==============================] - 12s 8ms/step - loss: 0.3511 - accuracy: 0.8783 - val_loss: 0.3881 - val_accuracy: 0.8704 - lr: 1.0000e-04\n",
            "Epoch 36/100\n",
            "1563/1563 [==============================] - 12s 8ms/step - loss: 0.3517 - accuracy: 0.8774 - val_loss: 0.3887 - val_accuracy: 0.8713 - lr: 1.0000e-04\n",
            "Epoch 37/100\n",
            "1563/1563 [==============================] - 12s 8ms/step - loss: 0.3451 - accuracy: 0.8821 - val_loss: 0.3862 - val_accuracy: 0.8719 - lr: 1.0000e-04\n",
            "Epoch 38/100\n",
            "1563/1563 [==============================] - 12s 8ms/step - loss: 0.3435 - accuracy: 0.8820 - val_loss: 0.3904 - val_accuracy: 0.8720 - lr: 1.0000e-04\n",
            "Epoch 39/100\n",
            "1563/1563 [==============================] - 12s 8ms/step - loss: 0.3417 - accuracy: 0.8827 - val_loss: 0.3852 - val_accuracy: 0.8724 - lr: 1.0000e-04\n",
            "Epoch 40/100\n",
            "1563/1563 [==============================] - 12s 8ms/step - loss: 0.3316 - accuracy: 0.8855 - val_loss: 0.3854 - val_accuracy: 0.8736 - lr: 1.0000e-04\n",
            "Epoch 41/100\n",
            "1563/1563 [==============================] - 12s 8ms/step - loss: 0.3399 - accuracy: 0.8843 - val_loss: 0.3880 - val_accuracy: 0.8711 - lr: 1.0000e-04\n",
            "Epoch 42/100\n",
            "1563/1563 [==============================] - 12s 8ms/step - loss: 0.3307 - accuracy: 0.8879 - val_loss: 0.3880 - val_accuracy: 0.8732 - lr: 1.0000e-04\n",
            "Epoch 43/100\n",
            "1563/1563 [==============================] - 12s 8ms/step - loss: 0.3328 - accuracy: 0.8857 - val_loss: 0.3869 - val_accuracy: 0.8732 - lr: 1.0000e-05\n",
            "Epoch 44/100\n",
            "1563/1563 [==============================] - 12s 8ms/step - loss: 0.3281 - accuracy: 0.8876 - val_loss: 0.3847 - val_accuracy: 0.8741 - lr: 1.0000e-05\n",
            "Epoch 45/100\n",
            "1563/1563 [==============================] - 12s 8ms/step - loss: 0.3277 - accuracy: 0.8876 - val_loss: 0.3850 - val_accuracy: 0.8735 - lr: 1.0000e-05\n",
            "Epoch 46/100\n",
            "1563/1563 [==============================] - 12s 8ms/step - loss: 0.3251 - accuracy: 0.8877 - val_loss: 0.3851 - val_accuracy: 0.8737 - lr: 1.0000e-05\n",
            "Epoch 47/100\n",
            "1563/1563 [==============================] - 12s 8ms/step - loss: 0.3269 - accuracy: 0.8896 - val_loss: 0.3854 - val_accuracy: 0.8738 - lr: 1.0000e-05\n",
            "Epoch 48/100\n",
            "1563/1563 [==============================] - 14s 9ms/step - loss: 0.3231 - accuracy: 0.8892 - val_loss: 0.3850 - val_accuracy: 0.8739 - lr: 1.0000e-06\n",
            "Epoch 49/100\n",
            "1563/1563 [==============================] - 12s 8ms/step - loss: 0.3275 - accuracy: 0.8869 - val_loss: 0.3849 - val_accuracy: 0.8741 - lr: 1.0000e-06\n",
            "Epoch 50/100\n",
            "1563/1563 [==============================] - 12s 8ms/step - loss: 0.3246 - accuracy: 0.8887 - val_loss: 0.3845 - val_accuracy: 0.8744 - lr: 1.0000e-06\n",
            "Epoch 51/100\n",
            "1563/1563 [==============================] - 12s 8ms/step - loss: 0.3280 - accuracy: 0.8869 - val_loss: 0.3851 - val_accuracy: 0.8743 - lr: 1.0000e-06\n",
            "Epoch 52/100\n",
            "1563/1563 [==============================] - 12s 8ms/step - loss: 0.3275 - accuracy: 0.8875 - val_loss: 0.3847 - val_accuracy: 0.8745 - lr: 1.0000e-06\n",
            "Epoch 53/100\n",
            "1563/1563 [==============================] - 12s 8ms/step - loss: 0.3257 - accuracy: 0.8884 - val_loss: 0.3852 - val_accuracy: 0.8747 - lr: 1.0000e-06\n",
            "Epoch 54/100\n",
            "1563/1563 [==============================] - 12s 8ms/step - loss: 0.3260 - accuracy: 0.8894 - val_loss: 0.3853 - val_accuracy: 0.8742 - lr: 1.0000e-07\n",
            "Epoch 55/100\n",
            "1563/1563 [==============================] - 12s 8ms/step - loss: 0.3249 - accuracy: 0.8871 - val_loss: 0.3847 - val_accuracy: 0.8745 - lr: 1.0000e-07\n",
            "Epoch 56/100\n",
            "1563/1563 [==============================] - 12s 8ms/step - loss: 0.3253 - accuracy: 0.8905 - val_loss: 0.3845 - val_accuracy: 0.8746 - lr: 1.0000e-07\n",
            "Epoch 57/100\n",
            "1563/1563 [==============================] - 12s 8ms/step - loss: 0.3244 - accuracy: 0.8884 - val_loss: 0.3849 - val_accuracy: 0.8740 - lr: 1.0000e-08\n",
            "Epoch 58/100\n",
            "1563/1563 [==============================] - 12s 8ms/step - loss: 0.3248 - accuracy: 0.8879 - val_loss: 0.3841 - val_accuracy: 0.8743 - lr: 1.0000e-08\n",
            "Epoch 59/100\n",
            "1563/1563 [==============================] - 12s 8ms/step - loss: 0.3289 - accuracy: 0.8860 - val_loss: 0.3846 - val_accuracy: 0.8747 - lr: 1.0000e-08\n",
            "Epoch 60/100\n",
            "1563/1563 [==============================] - 12s 7ms/step - loss: 0.3241 - accuracy: 0.8872 - val_loss: 0.3850 - val_accuracy: 0.8744 - lr: 1.0000e-08\n",
            "Epoch 61/100\n",
            "1563/1563 [==============================] - 12s 8ms/step - loss: 0.3231 - accuracy: 0.8885 - val_loss: 0.3850 - val_accuracy: 0.8741 - lr: 1.0000e-08\n",
            "Epoch 62/100\n",
            "1563/1563 [==============================] - 12s 7ms/step - loss: 0.3255 - accuracy: 0.8879 - val_loss: 0.3853 - val_accuracy: 0.8743 - lr: 1.0000e-09\n",
            "Epoch 63/100\n",
            "1563/1563 [==============================] - 12s 8ms/step - loss: 0.3230 - accuracy: 0.8889 - val_loss: 0.3854 - val_accuracy: 0.8746 - lr: 1.0000e-09\n",
            "Epoch 64/100\n",
            "1563/1563 [==============================] - 12s 8ms/step - loss: 0.3268 - accuracy: 0.8877 - val_loss: 0.3845 - val_accuracy: 0.8745 - lr: 1.0000e-09\n"
          ]
        }
      ],
      "source": [
        "history = model.fit(train_ds, epochs=100, validation_data=valid_ds, callbacks=callbacks, verbose=1)"
      ]
    },
    {
      "cell_type": "code",
      "execution_count": null,
      "metadata": {
        "colab": {
          "base_uri": "https://localhost:8080/"
        },
        "id": "AoRYRkW7tRn1",
        "outputId": "4d22d160-3eed-4c5f-b07e-7c166adb3ed5"
      },
      "outputs": [
        {
          "name": "stdout",
          "output_type": "stream",
          "text": [
            "313/313 [==============================] - 1s 4ms/step - loss: 0.3841 - accuracy: 0.8743\n"
          ]
        },
        {
          "data": {
            "text/plain": [
              "[0.3840728998184204, 0.8743000030517578]"
            ]
          },
          "execution_count": 17,
          "metadata": {},
          "output_type": "execute_result"
        }
      ],
      "source": [
        "model.evaluate(valid_ds)"
      ]
    },
    {
      "cell_type": "markdown",
      "metadata": {
        "id": "pTvZZ8WAb2yz"
      },
      "source": [
        "В общем случае чем больше слоев и количество ядер, тем она больше улавлявает сложные зависимости в данных. Однако их большое количество может привести к низкому качеству. Для каждого набора данных необходимо подбирать данные параметры индивидуально. Хорошей практикой должен быть путь от простого к сложному. Если нет четкой начальной интуиции - строим простую модель и постепенно ее усложняем, добавляя слои, фильтры, трюки. Если данных много, то можно для экспериментов взять их репрезентативную подвыборку."
      ]
    },
    {
      "cell_type": "code",
      "execution_count": null,
      "metadata": {
        "id": "eAPhjb1jIJuZ"
      },
      "outputs": [],
      "source": [
        "class Attention(tf.keras.layers.Layer):\n",
        "    def __init__(self, hidden):\n",
        "        super(Attention, self).__init__()\n",
        "        self.k = tf.keras.layers.Dense(hidden)\n",
        "        self.q = tf.keras.layers.Dense(hidden)\n",
        "        self.v = tf.keras.layers.Dense(hidden)\n",
        "        self.d = tf.math.sqrt(float(hidden))\n",
        "\n",
        "    def call(self, x):\n",
        "        out_k = self.k(x)\n",
        "        out_q = self.q(x)\n",
        "        out_v = self.v(x)\n",
        "        dot_qk = tf.matmul(out_q, out_k, transpose_b=True)\n",
        "        weighted_qk = tf.nn.softmax(dot_qk / self.d, axis=-1)\n",
        "        return tf.matmul(weighted_qk, out_v)"
      ]
    },
    {
      "cell_type": "markdown",
      "metadata": {
        "id": "R1G6-etjbGOL"
      },
      "source": [
        "**Crazy Mix**\n",
        "\n",
        "Берем начальные свертки и после нормализации подаем в ансамбль экстракторов: свертка-пулинг, свертка-свертка, свертка в стиле resnet. Объединяем, выравниваем, подсвеичваем наимболее важные фичи механизмом внимания, передаем на выход в полносвязный слой. Получается мусорная модель (первый блок не нужен, подаем сразу на экстракторы, наверное их количесво лучше увеличить). Для данной задачи лучше использовать что-то более классическое либо иметь более глубокое понимание нужной архитектуры."
      ]
    },
    {
      "cell_type": "code",
      "execution_count": null,
      "metadata": {
        "colab": {
          "base_uri": "https://localhost:8080/",
          "height": 1000
        },
        "id": "j0AnJxQItRlM",
        "outputId": "de0603ff-9e28-42c8-9c76-a98853a683a4"
      },
      "outputs": [
        {
          "data": {
            "image/png": "[encoded data removed]",
            "text/plain": [
              "<IPython.core.display.Image object>"
            ]
          },
          "execution_count": 9,
          "metadata": {},
          "output_type": "execute_result"
        }
      ],
      "source": [
        "inputs = tf.keras.layers.Input(shape=(32,32,3))\n",
        "\n",
        "conv1 = tf.keras.layers.Conv2D(32, 1, padding=\"same\", activation=\"relu\")(inputs)\n",
        "conv2 = tf.keras.layers.Conv2D(64, 3, padding=\"same\", activation=None)(conv1)\n",
        "conv_batch1 = tf.keras.layers.BatchNormalization()(conv2)\n",
        "activation1 = tf.keras.layers.Activation(\"relu\")(conv_batch1)\n",
        "\n",
        "drop1 = tf.keras.layers.Dropout(0.5)(activation1)\n",
        "branch1_conv1 = tf.keras.layers.Conv2D(64, 5, padding=\"same\", activation=\"relu\")(drop1)\n",
        "branch1_pool = tf.keras.layers.MaxPool2D(2)(branch1_conv1)\n",
        "\n",
        "drop2 = tf.keras.layers.Dropout(0.5)(activation1)\n",
        "branch2_conv1 = tf.keras.layers.Conv2D(64, 3, padding=\"same\", activation=\"relu\")(drop2)\n",
        "branch2_conv2 = tf.keras.layers.Conv2D(128, 3, strides=2, padding=\"same\", activation=\"relu\")(branch2_conv1)\n",
        "\n",
        "concat1 = tf.keras.layers.Concatenate(axis=-1)([branch1_pool, branch2_conv2])\n",
        "\n",
        "drop3 = tf.keras.layers.Dropout(0.5)(activation1)\n",
        "branch3_conv1 = tf.keras.layers.Conv2D(64, 3, padding=\"same\", activation=None)(drop3)\n",
        "branch3_norm1 = tf.keras.layers.BatchNormalization()(branch3_conv1)\n",
        "branch3_relu1 = tf.keras.layers.Activation(\"relu\")(branch3_norm1)\n",
        "branch3_conv2 = tf.keras.layers.Conv2D(64, 3, padding=\"same\", activation=None)(branch3_relu1)\n",
        "branch3_add = tf.keras.layers.Add()([drop3, branch3_conv2])\n",
        "branch3_relu2 = tf.keras.layers.Activation(\"relu\")(branch3_add)\n",
        "branch3_norm2 = tf.keras.layers.BatchNormalization()(branch3_relu2)\n",
        "branch3_pool1 = tf.keras.layers.MaxPool2D()(branch3_norm2)\n",
        "\n",
        "concat = tf.keras.layers.Concatenate(axis=-1)([concat1, branch3_pool1])\n",
        "batch_norm = tf.keras.layers.BatchNormalization()(concat)\n",
        "pooling = tf.keras.layers.GlobalAveragePooling2D()(concat)\n",
        "dense1 = tf.keras.layers.Dense(128)(pooling)\n",
        "\n",
        "attention = Attention(128)(dense1)\n",
        "att_out = tf.keras.layers.Add()([dense1, attention])\n",
        "att_out = tf.keras.layers.LayerNormalization()(att_out)\n",
        "att_out = tf.keras.layers.Activation(\"relu\")(att_out)\n",
        "drop4 = tf.keras.layers.Dropout(0.5)(att_out)\n",
        "outputs = tf.keras.layers.Dense(num_classes, activation=\"softmax\")(drop4)\n",
        "\n",
        "model = tf.keras.Model(inputs=inputs, outputs=outputs, name=\"mix\")\n",
        "tf.keras.utils.plot_model(model)\n",
        "#model.summary()"
      ]
    },
    {
      "cell_type": "code",
      "execution_count": null,
      "metadata": {
        "id": "bQVgisMxX2Ly"
      },
      "outputs": [],
      "source": [
        "model.compile(loss='categorical_crossentropy', optimizer='adam', metrics=['accuracy'])\n",
        "\n",
        "callbacks = [\n",
        "             tf.keras.callbacks.ReduceLROnPlateau(patience=3),\n",
        "             tf.keras.callbacks.EarlyStopping(monitor='val_loss', patience=6, restore_best_weights=True),\n",
        "            ]"
      ]
    },
    {
      "cell_type": "code",
      "execution_count": null,
      "metadata": {
        "colab": {
          "base_uri": "https://localhost:8080/"
        },
        "id": "xEG9AenXPBl0",
        "outputId": "f05f75b2-4ed7-4d02-e5f8-38a921659070"
      },
      "outputs": [
        {
          "name": "stdout",
          "output_type": "stream",
          "text": [
            "Epoch 1/100\n",
            "1563/1563 [==============================] - 33s 20ms/step - loss: 1.7127 - accuracy: 0.3672 - val_loss: 1.3759 - val_accuracy: 0.4991 - lr: 0.0010\n",
            "Epoch 2/100\n",
            "1563/1563 [==============================] - 30s 19ms/step - loss: 1.3302 - accuracy: 0.5208 - val_loss: 1.5000 - val_accuracy: 0.4554 - lr: 0.0010\n",
            "Epoch 3/100\n",
            "1563/1563 [==============================] - 30s 19ms/step - loss: 1.1990 - accuracy: 0.5711 - val_loss: 1.1761 - val_accuracy: 0.5760 - lr: 0.0010\n",
            "Epoch 4/100\n",
            "1563/1563 [==============================] - 30s 19ms/step - loss: 1.1114 - accuracy: 0.6071 - val_loss: 1.3374 - val_accuracy: 0.5174 - lr: 0.0010\n",
            "Epoch 5/100\n",
            "1563/1563 [==============================] - 30s 19ms/step - loss: 1.0503 - accuracy: 0.6281 - val_loss: 1.1381 - val_accuracy: 0.5933 - lr: 0.0010\n",
            "Epoch 6/100\n",
            "1563/1563 [==============================] - 31s 20ms/step - loss: 0.9984 - accuracy: 0.6524 - val_loss: 0.9575 - val_accuracy: 0.6610 - lr: 0.0010\n",
            "Epoch 7/100\n",
            "1563/1563 [==============================] - 31s 20ms/step - loss: 0.9657 - accuracy: 0.6599 - val_loss: 1.2432 - val_accuracy: 0.5683 - lr: 0.0010\n",
            "Epoch 8/100\n",
            "1563/1563 [==============================] - 30s 19ms/step - loss: 0.9365 - accuracy: 0.6721 - val_loss: 1.0694 - val_accuracy: 0.6277 - lr: 0.0010\n",
            "Epoch 9/100\n",
            "1563/1563 [==============================] - 30s 19ms/step - loss: 0.9004 - accuracy: 0.6842 - val_loss: 0.8734 - val_accuracy: 0.6911 - lr: 0.0010\n",
            "Epoch 10/100\n",
            "1563/1563 [==============================] - 30s 19ms/step - loss: 0.8796 - accuracy: 0.6937 - val_loss: 1.1912 - val_accuracy: 0.5812 - lr: 0.0010\n",
            "Epoch 11/100\n",
            "1563/1563 [==============================] - 30s 19ms/step - loss: 0.8560 - accuracy: 0.7032 - val_loss: 0.8635 - val_accuracy: 0.6929 - lr: 0.0010\n",
            "Epoch 12/100\n",
            "1563/1563 [==============================] - 30s 19ms/step - loss: 0.8407 - accuracy: 0.7082 - val_loss: 0.9939 - val_accuracy: 0.6523 - lr: 0.0010\n",
            "Epoch 13/100\n",
            "1563/1563 [==============================] - 30s 19ms/step - loss: 0.8219 - accuracy: 0.7160 - val_loss: 0.8506 - val_accuracy: 0.6974 - lr: 0.0010\n",
            "Epoch 14/100\n",
            "1563/1563 [==============================] - 30s 19ms/step - loss: 0.8068 - accuracy: 0.7213 - val_loss: 0.7864 - val_accuracy: 0.7209 - lr: 0.0010\n",
            "Epoch 15/100\n",
            "1563/1563 [==============================] - 31s 20ms/step - loss: 0.7937 - accuracy: 0.7234 - val_loss: 0.8141 - val_accuracy: 0.7163 - lr: 0.0010\n",
            "Epoch 16/100\n",
            "1563/1563 [==============================] - 31s 20ms/step - loss: 0.7758 - accuracy: 0.7316 - val_loss: 0.9336 - val_accuracy: 0.6751 - lr: 0.0010\n",
            "Epoch 17/100\n",
            "1563/1563 [==============================] - 30s 19ms/step - loss: 0.7650 - accuracy: 0.7366 - val_loss: 0.8363 - val_accuracy: 0.7032 - lr: 0.0010\n",
            "Epoch 18/100\n",
            "1563/1563 [==============================] - 30s 19ms/step - loss: 0.6813 - accuracy: 0.7635 - val_loss: 0.6827 - val_accuracy: 0.7572 - lr: 1.0000e-04\n",
            "Epoch 19/100\n",
            "1563/1563 [==============================] - 30s 19ms/step - loss: 0.6631 - accuracy: 0.7714 - val_loss: 0.6809 - val_accuracy: 0.7608 - lr: 1.0000e-04\n",
            "Epoch 20/100\n",
            "1563/1563 [==============================] - 30s 19ms/step - loss: 0.6540 - accuracy: 0.7754 - val_loss: 0.7069 - val_accuracy: 0.7507 - lr: 1.0000e-04\n",
            "Epoch 21/100\n",
            "1563/1563 [==============================] - 30s 19ms/step - loss: 0.6485 - accuracy: 0.7781 - val_loss: 0.6873 - val_accuracy: 0.7555 - lr: 1.0000e-04\n",
            "Epoch 22/100\n",
            "1563/1563 [==============================] - 30s 19ms/step - loss: 0.6407 - accuracy: 0.7788 - val_loss: 0.6900 - val_accuracy: 0.7548 - lr: 1.0000e-04\n",
            "Epoch 23/100\n",
            "1563/1563 [==============================] - 30s 19ms/step - loss: 0.6345 - accuracy: 0.7813 - val_loss: 0.6763 - val_accuracy: 0.7599 - lr: 1.0000e-05\n",
            "Epoch 24/100\n",
            "1563/1563 [==============================] - 30s 19ms/step - loss: 0.6255 - accuracy: 0.7827 - val_loss: 0.6781 - val_accuracy: 0.7594 - lr: 1.0000e-05\n"
          ]
        }
      ],
      "source": [
        "history = model.fit(train_ds, epochs=100, validation_data=valid_ds, callbacks=callbacks, verbose=1)"
      ]
    },
    {
      "cell_type": "markdown",
      "metadata": {
        "id": "mfeTres-1U8n"
      },
      "source": [
        "**Две параллельные нитки с разным пулингом**"
      ]
    },
    {
      "cell_type": "code",
      "execution_count": null,
      "metadata": {
        "id": "61wLRa7dgYPv"
      },
      "outputs": [],
      "source": [
        "inputs = tf.keras.layers.Input(shape=(32,32,3))\n",
        "# first branch feature extractor\n",
        "branch1_conv1 = tf.keras.layers.Conv2D(32, 3, padding=\"same\", activation=\"gelu\")(inputs)\n",
        "branch1_bn1 = tf.keras.layers.BatchNormalization()(branch1_conv1)\n",
        "branch1_conv2 = tf.keras.layers.Conv2D(32, 3, padding=\"same\", activation=\"gelu\")(branch1_bn1)\n",
        "branch1_bn2 = tf.keras.layers.BatchNormalization()(branch1_conv2)\n",
        "branch1_pool1 = tf.keras.layers.MaxPool2D(2, strides=1)(branch1_bn2)\n",
        "drop1 = tf.keras.layers.Dropout(0.5)(branch1_pool1)\n",
        "\n",
        "branch1_conv3 = tf.keras.layers.Conv2D(64, 3, padding=\"same\", activation=\"gelu\")(drop1)\n",
        "branch1_bn3 = tf.keras.layers.BatchNormalization()(branch1_conv3)\n",
        "branch1_conv4 = tf.keras.layers.Conv2D(64, 3, padding=\"same\", activation=\"gelu\")(branch1_bn3)\n",
        "branch1_bn4 = tf.keras.layers.BatchNormalization()(branch1_conv4)\n",
        "branch1_pool2 = tf.keras.layers.MaxPool2D(2, strides=1)(branch1_bn4)\n",
        "drop2 = tf.keras.layers.Dropout(0.5)(branch1_pool2)\n",
        "\n",
        "branch1_conv5 = tf.keras.layers.Conv2D(128, 3, padding=\"same\", activation=\"gelu\")(drop2)\n",
        "branch1_bn5 = tf.keras.layers.BatchNormalization()(branch1_conv5)\n",
        "branch1_conv6 = tf.keras.layers.Conv2D(128, 3, padding=\"same\", activation=\"gelu\")(branch1_bn5)\n",
        "branch1_bn6 = tf.keras.layers.BatchNormalization()(branch1_conv6)\n",
        "branch1_pool3 = tf.keras.layers.MaxPool2D(2, strides=1)(branch1_bn6)\n",
        "drop3 = tf.keras.layers.Dropout(0.5)(branch1_pool3)\n",
        "branch1_flat = tf.keras.layers.GlobalAveragePooling2D()(drop3)\n",
        "\n",
        "# second branch feature extractor\n",
        "branch2_conv1 = tf.keras.layers.Conv2D(32, 3, padding=\"same\", activation=\"gelu\")(inputs)\n",
        "branch2_bn1 = tf.keras.layers.BatchNormalization()(branch2_conv1)\n",
        "branch2_conv2 = tf.keras.layers.Conv2D(32, 3, padding=\"same\", activation=\"gelu\")(branch2_bn1)\n",
        "branch2_bn2 = tf.keras.layers.BatchNormalization()(branch2_conv2)\n",
        "branch2_pool1 = tf.keras.layers.AveragePooling2D(2, strides=1)(branch2_bn2)\n",
        "drop4 = tf.keras.layers.Dropout(0.5)(branch2_pool1)\n",
        "\n",
        "branch2_conv3 = tf.keras.layers.Conv2D(64, 3, padding=\"same\", activation=\"gelu\")(drop4)\n",
        "branch2_bn3 = tf.keras.layers.BatchNormalization()(branch2_conv3)\n",
        "branch2_conv4 = tf.keras.layers.Conv2D(64, 3, padding=\"same\", activation=\"gelu\")(branch2_bn3)\n",
        "branch2_bn4 = tf.keras.layers.BatchNormalization()(branch2_conv4)\n",
        "branch2_pool2 = tf.keras.layers.AveragePooling2D(2, strides=1)(branch2_bn4)\n",
        "drop5 = tf.keras.layers.Dropout(0.5)(branch2_pool2)\n",
        "\n",
        "branch2_conv5 = tf.keras.layers.Conv2D(128, 3, padding=\"same\", activation=\"gelu\")(drop5)\n",
        "branch2_bn5 = tf.keras.layers.BatchNormalization()(branch2_conv5)\n",
        "branch2_conv6 = tf.keras.layers.Conv2D(128, 3, padding=\"same\", activation=\"gelu\")(branch2_bn5)\n",
        "branch2_bn6 = tf.keras.layers.BatchNormalization()(branch2_conv6)\n",
        "branch2_pool3 = tf.keras.layers.AveragePooling2D(2, strides=1)(branch2_bn6)\n",
        "drop6 = tf.keras.layers.Dropout(0.5)(branch2_pool3)\n",
        "branch2_flat = tf.keras.layers.GlobalAveragePooling2D()(drop6)\n",
        "\n",
        "# concat\n",
        "branch_out = tf.keras.layers.Concatenate(axis=-1)([branch1_flat, branch2_flat])\n",
        "\n",
        "# classifier\n",
        "branch_out = tf.keras.layers.Dropout(0.5)(branch_out)\n",
        "branch_out = tf.keras.layers.Dense(256, activation=\"gelu\")(branch_out)\n",
        "branch_out = tf.keras.layers.Dense(10, activation=\"softmax\")(branch_out)\n",
        "\n",
        "model = tf.keras.Model(inputs=inputs, outputs=branch_out, name=\"avg_max_cnn\")"
      ]
    },
    {
      "cell_type": "code",
      "execution_count": null,
      "metadata": {
        "id": "MJtmFhnj7rM2"
      },
      "outputs": [],
      "source": [
        "model.compile(loss='categorical_crossentropy', optimizer='adam', metrics=['accuracy'])\n",
        "\n",
        "callbacks = [\n",
        "             tf.keras.callbacks.ReduceLROnPlateau(patience=3),\n",
        "             tf.keras.callbacks.EarlyStopping(monitor='val_loss', patience=6, restore_best_weights=True),\n",
        "            ]"
      ]
    },
    {
      "cell_type": "code",
      "execution_count": null,
      "metadata": {
        "colab": {
          "base_uri": "https://localhost:8080/"
        },
        "id": "HEncS4qi7t4O",
        "outputId": "18bfa03a-e3d6-437c-9d81-2efb7c7858ff"
      },
      "outputs": [
        {
          "name": "stdout",
          "output_type": "stream",
          "text": [
            "Epoch 1/100\n",
            "1563/1563 [==============================] - 106s 59ms/step - loss: 1.3185 - accuracy: 0.5202 - val_loss: 1.1745 - val_accuracy: 0.5924 - lr: 0.0010\n",
            "Epoch 2/100\n",
            "1563/1563 [==============================] - 93s 59ms/step - loss: 0.9591 - accuracy: 0.6565 - val_loss: 1.1258 - val_accuracy: 0.6212 - lr: 0.0010\n",
            "Epoch 3/100\n",
            "1563/1563 [==============================] - 93s 59ms/step - loss: 0.8200 - accuracy: 0.7101 - val_loss: 0.9216 - val_accuracy: 0.6842 - lr: 0.0010\n",
            "Epoch 4/100\n",
            "1563/1563 [==============================] - 95s 61ms/step - loss: 0.7276 - accuracy: 0.7444 - val_loss: 1.0527 - val_accuracy: 0.6421 - lr: 0.0010\n",
            "Epoch 5/100\n",
            "1563/1563 [==============================] - 93s 59ms/step - loss: 0.6545 - accuracy: 0.7703 - val_loss: 0.7363 - val_accuracy: 0.7534 - lr: 0.0010\n",
            "Epoch 6/100\n",
            "1563/1563 [==============================] - 92s 59ms/step - loss: 0.5969 - accuracy: 0.7901 - val_loss: 0.7247 - val_accuracy: 0.7633 - lr: 0.0010\n",
            "Epoch 7/100\n",
            "1563/1563 [==============================] - 94s 60ms/step - loss: 0.5526 - accuracy: 0.8069 - val_loss: 0.6179 - val_accuracy: 0.7953 - lr: 0.0010\n",
            "Epoch 8/100\n",
            "1563/1563 [==============================] - 95s 61ms/step - loss: 0.5130 - accuracy: 0.8195 - val_loss: 0.8038 - val_accuracy: 0.7549 - lr: 0.0010\n",
            "Epoch 9/100\n",
            "1563/1563 [==============================] - 94s 60ms/step - loss: 0.4747 - accuracy: 0.8334 - val_loss: 0.6447 - val_accuracy: 0.7850 - lr: 0.0010\n",
            "Epoch 10/100\n",
            "1563/1563 [==============================] - 93s 59ms/step - loss: 0.4508 - accuracy: 0.8417 - val_loss: 0.6994 - val_accuracy: 0.7939 - lr: 0.0010\n",
            "Epoch 11/100\n",
            "1563/1563 [==============================] - 92s 59ms/step - loss: 0.3485 - accuracy: 0.8775 - val_loss: 0.4475 - val_accuracy: 0.8509 - lr: 1.0000e-04\n",
            "Epoch 12/100\n",
            "1563/1563 [==============================] - 93s 59ms/step - loss: 0.3221 - accuracy: 0.8866 - val_loss: 0.4411 - val_accuracy: 0.8534 - lr: 1.0000e-04\n",
            "Epoch 13/100\n",
            "1563/1563 [==============================] - 92s 59ms/step - loss: 0.3101 - accuracy: 0.8908 - val_loss: 0.4368 - val_accuracy: 0.8564 - lr: 1.0000e-04\n",
            "Epoch 14/100\n",
            "1563/1563 [==============================] - 93s 60ms/step - loss: 0.3022 - accuracy: 0.8951 - val_loss: 0.4404 - val_accuracy: 0.8553 - lr: 1.0000e-04\n",
            "Epoch 15/100\n",
            "1563/1563 [==============================] - 94s 60ms/step - loss: 0.2957 - accuracy: 0.8953 - val_loss: 0.4336 - val_accuracy: 0.8589 - lr: 1.0000e-04\n",
            "Epoch 16/100\n",
            "1563/1563 [==============================] - 93s 60ms/step - loss: 0.2892 - accuracy: 0.8983 - val_loss: 0.4270 - val_accuracy: 0.8599 - lr: 1.0000e-04\n",
            "Epoch 17/100\n",
            "1563/1563 [==============================] - 93s 60ms/step - loss: 0.2802 - accuracy: 0.9002 - val_loss: 0.4293 - val_accuracy: 0.8601 - lr: 1.0000e-04\n",
            "Epoch 18/100\n",
            "1563/1563 [==============================] - 94s 60ms/step - loss: 0.2761 - accuracy: 0.9038 - val_loss: 0.4309 - val_accuracy: 0.8583 - lr: 1.0000e-04\n",
            "Epoch 19/100\n",
            "1563/1563 [==============================] - 93s 59ms/step - loss: 0.2708 - accuracy: 0.9061 - val_loss: 0.4349 - val_accuracy: 0.8566 - lr: 1.0000e-04\n",
            "Epoch 20/100\n",
            "1563/1563 [==============================] - 93s 59ms/step - loss: 0.2578 - accuracy: 0.9103 - val_loss: 0.4239 - val_accuracy: 0.8608 - lr: 1.0000e-05\n",
            "Epoch 21/100\n",
            "1563/1563 [==============================] - 92s 59ms/step - loss: 0.2515 - accuracy: 0.9107 - val_loss: 0.4251 - val_accuracy: 0.8606 - lr: 1.0000e-05\n",
            "Epoch 22/100\n",
            "1563/1563 [==============================] - 92s 59ms/step - loss: 0.2517 - accuracy: 0.9126 - val_loss: 0.4243 - val_accuracy: 0.8597 - lr: 1.0000e-05\n",
            "Epoch 23/100\n",
            "1563/1563 [==============================] - 92s 59ms/step - loss: 0.2504 - accuracy: 0.9123 - val_loss: 0.4240 - val_accuracy: 0.8603 - lr: 1.0000e-05\n",
            "Epoch 24/100\n",
            "1563/1563 [==============================] - 91s 58ms/step - loss: 0.2501 - accuracy: 0.9133 - val_loss: 0.4256 - val_accuracy: 0.8601 - lr: 1.0000e-06\n",
            "Epoch 25/100\n",
            "1563/1563 [==============================] - 92s 59ms/step - loss: 0.2481 - accuracy: 0.9123 - val_loss: 0.4255 - val_accuracy: 0.8606 - lr: 1.0000e-06\n",
            "Epoch 26/100\n",
            "1563/1563 [==============================] - 92s 59ms/step - loss: 0.2512 - accuracy: 0.9118 - val_loss: 0.4253 - val_accuracy: 0.8606 - lr: 1.0000e-06\n"
          ]
        }
      ],
      "source": [
        "history = model.fit(train_ds, epochs=100, validation_data=valid_ds, callbacks=callbacks, verbose=1)"
      ]
    },
    {
      "cell_type": "code",
      "execution_count": null,
      "metadata": {
        "colab": {
          "base_uri": "https://localhost:8080/"
        },
        "id": "prkgVCdQH5WR",
        "outputId": "88c6a74a-d688-4664-a29c-54f3261f7509"
      },
      "outputs": [
        {
          "name": "stdout",
          "output_type": "stream",
          "text": [
            "313/313 [==============================] - 5s 17ms/step - loss: 0.4239 - accuracy: 0.8608\n"
          ]
        },
        {
          "data": {
            "text/plain": [
              "[0.4239424765110016, 0.86080002784729]"
            ]
          },
          "execution_count": 9,
          "metadata": {},
          "output_type": "execute_result"
        }
      ],
      "source": [
        "model.evaluate(valid_ds)"
      ]
    },
    {
      "cell_type": "markdown",
      "metadata": {
        "id": "hJpebc1f1VdG"
      },
      "source": [
        "**Custom ResNet18**"
      ]
    },
    {
      "cell_type": "code",
      "execution_count": null,
      "metadata": {
        "id": "6NTE17W1X2JS"
      },
      "outputs": [],
      "source": [
        "class ResnetBlock(tf.keras.Model):\n",
        "    def __init__(self, channels: int, down_sample=False):\n",
        "        super(ResnetBlock, self).__init__()\n",
        "\n",
        "        self.down_sample = down_sample\n",
        "        strides = [2, 1] if down_sample else [1, 1]\n",
        "\n",
        "        self.conv_1 = tf.keras.layers.Conv2D(channels, \n",
        "                                             strides=strides[0], \n",
        "                                             kernel_size=3, \n",
        "                                             padding=\"same\", \n",
        "                                             kernel_initializer=\"he_normal\")\n",
        "        self.bn_1 = tf.keras.layers.BatchNormalization()\n",
        "        self.conv_2 = tf.keras.layers.Conv2D(channels, \n",
        "                                             strides=strides[1],\n",
        "                                             kernel_size=3, \n",
        "                                             padding=\"same\", \n",
        "                                             kernel_initializer=\"he_normal\")\n",
        "        self.bn_2 = tf.keras.layers.BatchNormalization()\n",
        "        self.add = tf.keras.layers.Add()\n",
        "\n",
        "        if self.down_sample:\n",
        "            self.res_conv = tf.keras.layers.Conv2D(channels, \n",
        "                                                   strides=2, \n",
        "                                                   kernel_size=1, \n",
        "                                                   kernel_initializer=\"he_normal\", \n",
        "                                                   padding=\"same\")\n",
        "            self.res_bn = tf.keras.layers.BatchNormalization()\n",
        "        \n",
        "    def call(self, inputs):\n",
        "        res = inputs\n",
        "\n",
        "        x = self.conv_1(inputs)\n",
        "        x = self.bn_1(x)\n",
        "        x = tf.nn.relu(x)\n",
        "        x = self.conv_2(x)\n",
        "        x = self.bn_2(x)\n",
        "\n",
        "        if self.down_sample:\n",
        "            res = self.res_conv(res)\n",
        "            res = self.res_bn(res)\n",
        "\n",
        "        x = self.add([x, res])\n",
        "        out = tf.nn.relu(x)\n",
        "        return out\n",
        "\n",
        "class ResNet18(tf.keras.Model):\n",
        "\n",
        "    def __init__(self, num_classes, channels=64, **kwargs):\n",
        "        super(ResNet18, self).__init__(**kwargs)\n",
        "        self.conv_1 = tf.keras.layers.Conv2D(channels, \n",
        "                                             kernel_size=7, \n",
        "                                             strides=2,\n",
        "                                             padding=\"same\", \n",
        "                                             kernel_initializer=\"he_normal\")\n",
        "        self.init_bn = tf.keras.layers.BatchNormalization()\n",
        "        self.pool_2 = tf.keras.layers.MaxPool2D(pool_size=(2, 2), strides=2, padding=\"same\")\n",
        "        self.blocks = [ResnetBlock(64)]\n",
        "        out_channels = channels\n",
        "        for i in range(7):\n",
        "            sample = False\n",
        "            if i % 2 != 0:\n",
        "                out_channels *= 2\n",
        "                sample = True\n",
        "            self.blocks.append(ResnetBlock(out_channels, down_sample=sample))\n",
        "        self.avg_pool = tf.keras.layers.GlobalAveragePooling2D()\n",
        "        self.flat = tf.keras.layers.Flatten()\n",
        "        self.fc = tf.keras.layers.Dense(num_classes, activation=\"softmax\")\n",
        "        self.build(input_shape=(None, 32, 32,3))\n",
        "\n",
        "    def call(self, inputs):\n",
        "        out = self.conv_1(inputs)\n",
        "        out = self.init_bn(out)\n",
        "        out = tf.nn.relu(out)\n",
        "        out = self.pool_2(out)\n",
        "        for res_block in self.blocks:\n",
        "            out = res_block(out)\n",
        "        out = self.avg_pool(out)\n",
        "        #out = self.flat(out)\n",
        "        out = self.fc(out)\n",
        "        return out"
      ]
    },
    {
      "cell_type": "code",
      "execution_count": null,
      "metadata": {
        "id": "WDsQSr7nj3DC"
      },
      "outputs": [],
      "source": [
        "net = ResNet18(10, channels=32)\n",
        "net.compile(optimizer = \"adam\",loss='categorical_crossentropy', metrics=[\"accuracy\"]) \n",
        "callbacks = [\n",
        "             tf.keras.callbacks.ReduceLROnPlateau(patience=3),\n",
        "             tf.keras.callbacks.EarlyStopping(monitor='val_loss', patience=6, restore_best_weights=True),\n",
        "            ]"
      ]
    },
    {
      "cell_type": "code",
      "execution_count": null,
      "metadata": {
        "id": "ST_NPf_QusKB"
      },
      "outputs": [],
      "source": [
        "history = net.fit(train_ds, epochs=5, validation_data=valid_ds, callbacks=callbacks, verbose=1)\n",
        "# результаты пропали. Но этот подход много хуже baseline"
      ]
    },
    {
      "cell_type": "markdown",
      "metadata": {
        "id": "ALr_s60yF2-2"
      },
      "source": [
        "**Tranfer learning (EffivientNetB0)**\n",
        "\n",
        "EfficientNetB0 - наилучшим образом оптимизирована с точки зрения пропорций глубины, ширины и разрешения. Примечательно, что авторы нашли параметры\n",
        "сети с использованием алгоритма поиска оптимальной архитектуры сети (то есть через optimized search). Кроме того, вместо ReLU используется swish\n",
        "активация. Также есть фишки вроде: Inverted Residual Blocks (снижает число параметров сети), Squeeze and Excitation Block (учится взвешивать \n",
        "каналы на выходе conv слоя). EfficientNet состоит из 7 MBConv Block (получает на вход feature maps и параметры с которыми \n",
        "параметры блока: размеры ядра, фильтры, параметры вышеописанных блоков)\n",
        "\n",
        "пробуем официальную модель в tf.keras и возьмем efficeint модуль (хоть и размер картинки маловат для такой сложной сети)"
      ]
    },
    {
      "cell_type": "code",
      "execution_count": null,
      "metadata": {
        "id": "kRTgzS4BX2En"
      },
      "outputs": [],
      "source": [
        "!pip install -qq efficientnet"
      ]
    },
    {
      "cell_type": "code",
      "execution_count": null,
      "metadata": {
        "id": "wVhwuXtMbYl1"
      },
      "outputs": [],
      "source": [
        "from efficientnet.keras import EfficientNetB0  # выбрать что-то одно"
      ]
    },
    {
      "cell_type": "code",
      "source": [
        "from tensorflow.keras.applications.efficientnet import EfficientNetB0\n",
        "\n",
        "backbone = EfficientNetB0(weights=\"imagenet\", include_top=False, input_shape=(32,32,3), classes=num_classes)"
      ],
      "metadata": {
        "colab": {
          "base_uri": "https://localhost:8080/"
        },
        "id": "VFCIyVi60dMx",
        "outputId": "6269a106-c2d0-4cce-cea2-a5fe847a4058"
      },
      "execution_count": null,
      "outputs": [
        {
          "output_type": "stream",
          "name": "stdout",
          "text": [
            "Downloading data from https://storage.googleapis.com/keras-applications/efficientnetb0_notop.h5\n",
            "16705208/16705208 [==============================] - 0s 0us/step\n"
          ]
        }
      ]
    },
    {
      "cell_type": "code",
      "execution_count": null,
      "metadata": {
        "id": "dNC4s3mMbsXC"
      },
      "outputs": [],
      "source": [
        "# backbone = EfficientNetB0(weights='imagenet', include_top=False, input_shape=(32,32,3), classes=num_classes)  # OOM на 224"
      ]
    },
    {
      "cell_type": "code",
      "execution_count": null,
      "metadata": {
        "id": "bpwz_BMFcZ8e"
      },
      "outputs": [],
      "source": [
        "# заморозим слои базовой сети. Можно этого не делать, тогда натренированные веса продолжат обновляться (это не всегда хорошо, надо чутко \n",
        "# подбирать гиперпараметры всей сети), будем считать, что базовая сеть уже хорошо умеет извлекать фичи, по которым можно отличить лягушку от машины\n",
        "\n",
        "#for layer in backbone.layers:\n",
        "#    layer.trainable = False\n",
        "\n",
        "backbone.trainable = False\n",
        "\n",
        "# пробуем дообучать веса\n",
        "# for layer in backbone.layers:\n",
        "#     if isinstance(layer, tf.keras.layers.BatchNormalization):  # чтобы не уничтожить хорошие веса\n",
        "#         layer.trainable = False\n",
        "#     else:\n",
        "#         layer.trainable = True"
      ]
    },
    {
      "cell_type": "code",
      "source": [
        "class Swish(tf.keras.layers.Layer):\n",
        "    def __init__(self, beta):\n",
        "        super(Swish, self).__init__()\n",
        "        self.beta = tf.Variable(initial_value=beta, trainable=True)\n",
        "        self._name = \"Swish\"\n",
        "\n",
        "    def call(self, x):\n",
        "        return x * tf.nn.sigmoid(self.beta * x)"
      ],
      "metadata": {
        "id": "f-w-N-_BnYw_"
      },
      "execution_count": null,
      "outputs": []
    },
    {
      "cell_type": "code",
      "execution_count": null,
      "metadata": {
        "colab": {
          "base_uri": "https://localhost:8080/"
        },
        "id": "RVXRrQl9b-iO",
        "outputId": "50a847b3-2fc2-4e37-cba8-d39a38d4d34a"
      },
      "outputs": [
        {
          "output_type": "stream",
          "name": "stdout",
          "text": [
            "Model: \"sequential_2\"\n",
            "_________________________________________________________________\n",
            " Layer (type)                Output Shape              Param #   \n",
            "=================================================================\n",
            " efficientnetb0 (Functional)  (None, 1, 1, 1280)       4049571   \n",
            "                                                                 \n",
            " global_average_pooling2d_2   (None, 1280)             0         \n",
            " (GlobalAveragePooling2D)                                        \n",
            "                                                                 \n",
            " dropout_4 (Dropout)         (None, 1280)              0         \n",
            "                                                                 \n",
            " dense_4 (Dense)             (None, 256)               327936    \n",
            "                                                                 \n",
            " Swish (Swish)               (None, 256)               1         \n",
            "                                                                 \n",
            " dropout_5 (Dropout)         (None, 256)               0         \n",
            "                                                                 \n",
            " dense_5 (Dense)             (None, 10)                2570      \n",
            "                                                                 \n",
            "=================================================================\n",
            "Total params: 4,380,078\n",
            "Trainable params: 330,507\n",
            "Non-trainable params: 4,049,571\n",
            "_________________________________________________________________\n"
          ]
        }
      ],
      "source": [
        "beta = 1.  # beta = 1, function = SiLU, beta = 0, function = linear x/2\n",
        "\n",
        "model = tf.keras.Sequential()\n",
        "\n",
        "model.add(backbone)\n",
        "model.add(tf.keras.layers.GlobalAveragePooling2D())\n",
        "\n",
        "# дополниельный эксперимент с активацией swish\n",
        "model.add(tf.keras.layers.Dropout(0.5))\n",
        "model.add(tf.keras.layers.Dense(256, activation=None))\n",
        "# model.add(tf.keras.layers.Lambda(lambda x: x * tf.nn.sigmoid(beta * x), name=\"swish\"))  # если beta non-trainable константа\n",
        "model.add(Swish(beta))\n",
        "\n",
        "model.add(tf.keras.layers.Dropout(0.5))\n",
        "model.add(tf.keras.layers.Dense(num_classes, activation='softmax'))\n",
        "\n",
        "model.summary()"
      ]
    },
    {
      "cell_type": "code",
      "source": [
        "def aug_fn(image):  # для keras.applications не требуется scaling и resize\n",
        "    data = {\"image\":image}\n",
        "    aug_data = transforms(**data)\n",
        "    aug_img = aug_data[\"image\"]\n",
        "    aug_img = tf.cast(aug_img, tf.float32)\n",
        "    return aug_img"
      ],
      "metadata": {
        "id": "LVdETS8C1J3F"
      },
      "execution_count": null,
      "outputs": []
    },
    {
      "cell_type": "code",
      "execution_count": null,
      "metadata": {
        "id": "rmA5ZlsNcTbv"
      },
      "outputs": [],
      "source": [
        "# augmentations\n",
        "\n",
        "(x_train, y_train), (x_test, y_test) = load_data()\n",
        "y_train = tf.keras.utils.to_categorical(y_train, num_classes)\n",
        "y_test = tf.keras.utils.to_categorical(y_test, num_classes)\n",
        "\n",
        "AUTOTUNE = tf.data.AUTOTUNE\n",
        "# aug without gray\n",
        "train_ds = tf.data.Dataset.from_tensor_slices((x_train, y_train)).map(partial(process_image), num_parallel_calls=AUTOTUNE).cache().shuffle(len(x_train)).batch(8).prefetch(AUTOTUNE)\n",
        "valid_ds = tf.data.Dataset.from_tensor_slices((x_test, y_test)).map(lambda x,y: (tf.cast(x, tf.float32),y)).cache().batch(8).prefetch(AUTOTUNE)"
      ]
    },
    {
      "cell_type": "code",
      "execution_count": null,
      "metadata": {
        "id": "g08zy53KnpK4"
      },
      "outputs": [],
      "source": [
        "optimizer = tf.keras.optimizers.Adam(learning_rate=0.0001)\n",
        "model.compile(loss='categorical_crossentropy', optimizer=optimizer, metrics=['accuracy'])\n",
        "\n",
        "callbacks = [\n",
        "             tf.keras.callbacks.ReduceLROnPlateau(patience=3),\n",
        "             tf.keras.callbacks.EarlyStopping(monitor='val_loss', patience=6, restore_best_weights=True),\n",
        "            ]"
      ]
    },
    {
      "cell_type": "code",
      "execution_count": null,
      "metadata": {
        "colab": {
          "base_uri": "https://localhost:8080/"
        },
        "id": "TrgWKps6n8pa",
        "outputId": "743ff7a3-7836-4747-b044-5bfc76e0b199"
      },
      "outputs": [
        {
          "output_type": "stream",
          "name": "stdout",
          "text": [
            "Epoch 1/100\n",
            "6250/6250 [==============================] - 329s 40ms/step - loss: 1.8004 - accuracy: 0.3562 - val_loss: 1.4806 - val_accuracy: 0.4916 - lr: 1.0000e-04\n",
            "Epoch 2/100\n",
            "6250/6250 [==============================] - 195s 31ms/step - loss: 1.6228 - accuracy: 0.4234 - val_loss: 1.3934 - val_accuracy: 0.5193 - lr: 1.0000e-04\n",
            "Epoch 3/100\n",
            "6250/6250 [==============================] - 197s 31ms/step - loss: 1.5892 - accuracy: 0.4336 - val_loss: 1.3577 - val_accuracy: 0.5273 - lr: 1.0000e-04\n",
            "Epoch 4/100\n",
            "6250/6250 [==============================] - 206s 33ms/step - loss: 1.5704 - accuracy: 0.4402 - val_loss: 1.3494 - val_accuracy: 0.5322 - lr: 1.0000e-04\n",
            "Epoch 5/100\n",
            "6250/6250 [==============================] - 187s 30ms/step - loss: 1.5566 - accuracy: 0.4480 - val_loss: 1.3421 - val_accuracy: 0.5320 - lr: 1.0000e-04\n",
            "Epoch 6/100\n",
            "6250/6250 [==============================] - 188s 30ms/step - loss: 1.5485 - accuracy: 0.4463 - val_loss: 1.3332 - val_accuracy: 0.5403 - lr: 1.0000e-04\n",
            "Epoch 7/100\n",
            "6250/6250 [==============================] - 204s 33ms/step - loss: 1.5416 - accuracy: 0.4472 - val_loss: 1.3218 - val_accuracy: 0.5401 - lr: 1.0000e-04\n",
            "Epoch 8/100\n",
            "4416/6250 [====================>.........] - ETA: 52s - loss: 1.5366 - accuracy: 0.4528"
          ]
        }
      ],
      "source": [
        "history = model.fit(train_ds, epochs=100, validation_data=valid_ds, callbacks=callbacks, verbose=1)\n",
        "# сложная модель для таких данных... обучение идет медленно (с маленькими изменениями) к 10 эпохе чуть более 0.54 accuracy"
      ]
    },
    {
      "cell_type": "markdown",
      "metadata": {
        "id": "PH8svBQQF78W"
      },
      "source": [
        "**Zero-shot learning**\n",
        "\n",
        "По традиции немного экзотики. CLIP модель к теме сверточных сетей не имеет отношения. При разработке модели авторы использовали вариант сверточной сети для feature extractor ResNet50, но остановились на модели ViT (с патчами изображения в качестве токенов и полносвязными слоями трасформера). Для текста использовали языковую модель (GPT-2 вроде)."
      ]
    },
    {
      "cell_type": "code",
      "execution_count": null,
      "metadata": {
        "id": "urdSvDi_isKp"
      },
      "outputs": [],
      "source": [
        "# CLIP hugging face\n",
        "from transformers import CLIPProcessor, TFCLIPModel"
      ]
    },
    {
      "cell_type": "code",
      "execution_count": null,
      "metadata": {
        "colab": {
          "base_uri": "https://localhost:8080/",
          "height": 138,
          "referenced_widgets": [
            "41ebe383a19043fea4388b64cd8949bb",
            "ae4d5d3a9f204cc3bec5d99b6d7419d4",
            "29a8e6adfe054bb699304f0b63ae119a",
            "699d17895695452296dd3090ecef07e4",
            "fef29c2f8f0b4175980222e5ef5b8678",
            "15c3226d2d914926bec02d21e68574df",
            "275196eb10a24bc5bf7b5ae7ad3cb36f",
            "452d720eb6a14f1fa7a823554601b26c",
            "4ecbf8c124504c89a934409ce63a498f",
            "4999032b4c3444d396423bf526c13389",
            "baa095a2a8464336b9b05013238ae5fc"
          ]
        },
        "id": "fMObYuD1Inez",
        "outputId": "6a658a09-7ccb-4a04-9320-3f0c82d3ca29"
      },
      "outputs": [
        {
          "data": {
            "application/vnd.jupyter.widget-view+json": {
              "model_id": "41ebe383a19043fea4388b64cd8949bb",
              "version_major": 2,
              "version_minor": 0
            },
            "text/plain": [
              "Downloading:   0%|          | 0.00/606M [00:00<?, ?B/s]"
            ]
          },
          "metadata": {},
          "output_type": "display_data"
        },
        {
          "name": "stderr",
          "output_type": "stream",
          "text": [
            "All model checkpoint layers were used when initializing TFCLIPModel.\n",
            "\n",
            "All the layers of TFCLIPModel were initialized from the model checkpoint at openai/clip-vit-base-patch32.\n",
            "If your task is similar to the task the model of the checkpoint was trained on, you can already use TFCLIPModel for predictions without further training.\n"
          ]
        }
      ],
      "source": [
        "model = TFCLIPModel.from_pretrained(\"openai/clip-vit-base-patch32\")\n",
        "processor = CLIPProcessor.from_pretrained(\"openai/clip-vit-base-patch32\")"
      ]
    },
    {
      "cell_type": "code",
      "execution_count": null,
      "metadata": {
        "id": "FgOP3V7PJAoC"
      },
      "outputs": [],
      "source": [
        "classes = ['airplane', 'car', 'bird', 'cat', 'deer', 'dog', 'frog', 'horse', 'ship', 'truck']"
      ]
    },
    {
      "cell_type": "code",
      "execution_count": null,
      "metadata": {
        "id": "JA2bh1RPO1ut"
      },
      "outputs": [],
      "source": [
        "(x_train, y_train), (x_test, y_test) = load_data()"
      ]
    },
    {
      "cell_type": "code",
      "execution_count": null,
      "metadata": {
        "id": "E_HzCJmiJdPE"
      },
      "outputs": [],
      "source": [
        "image = x_train[0]\n",
        "\n",
        "text_inputs = processor([f\"a photo of a {cls}\" for cls in classes], padding=True, return_tensors=\"tf\")\n",
        "image_inputs = processor(images=image, return_tensors=\"tf\")"
      ]
    },
    {
      "cell_type": "code",
      "execution_count": null,
      "metadata": {
        "id": "VYLkrsnQOYKM"
      },
      "outputs": [],
      "source": [
        "text_features = model.get_text_features(**text_inputs)\n",
        "image_features = model.get_image_features(**image_inputs)"
      ]
    },
    {
      "cell_type": "code",
      "execution_count": null,
      "metadata": {
        "id": "kwtiPYcERwt5"
      },
      "outputs": [],
      "source": [
        "image_features /= tf.norm(image_features, axis=-1, keepdims=True)\n",
        "text_features /= tf.norm(text_features, axis=-1, keepdims=True)"
      ]
    },
    {
      "cell_type": "code",
      "execution_count": null,
      "metadata": {
        "id": "XcJZWiOZSaUy"
      },
      "outputs": [],
      "source": [
        "similarity = 100 * tf.matmul(image_features, text_features, transpose_b=True)\n",
        "similarity = tf.nn.softmax(similarity, axis=-1).numpy()"
      ]
    },
    {
      "cell_type": "code",
      "execution_count": null,
      "metadata": {
        "colab": {
          "base_uri": "https://localhost:8080/",
          "height": 281
        },
        "id": "GFiGuogfSyb_",
        "outputId": "2d060eef-bca0-4081-ed1e-4ca4d9e69a04"
      },
      "outputs": [
        {
          "data": {
            "image/png": "[encoded data removed]",
            "text/plain": [
              "<Figure size 432x288 with 1 Axes>"
            ]
          },
          "metadata": {},
          "output_type": "display_data"
        }
      ],
      "source": [
        "plt.imshow(x_train[0])\n",
        "plt.title(f\"The picture of a {classes[similarity.argmax(1).item()]}\")\n",
        "plt.show()"
      ]
    },
    {
      "cell_type": "markdown",
      "source": [
        "**Еще выводы**\n",
        "\n",
        "К ранее сказанному нужно добавить, что играя с глубиной сети, количеством ветвей, фильтров и т.д. необходимо не забывать, что в первую очередь надо решить какая будет архитектура сети - это ключевой момент! А дальше уже идти от несложной сети к более сложной."
      ],
      "metadata": {
        "id": "J8UjYKnb8gqn"
      }
    }
  ],
  "metadata": {
    "accelerator": "GPU",
    "colab": {
      "collapsed_sections": [],
      "provenance": []
    },
    "kernelspec": {
      "display_name": "Python 3",
      "name": "python3"
    },
    "language_info": {
      "name": "python"
    },
    "widgets": {
      "application/vnd.jupyter.widget-state+json": {
        "15c3226d2d914926bec02d21e68574df": {
          "model_module": "@jupyter-widgets/base",
          "model_module_version": "1.2.0",
          "model_name": "LayoutModel",
          "state": {
            "_model_module": "@jupyter-widgets/base",
            "_model_module_version": "1.2.0",
            "_model_name": "LayoutModel",
            "_view_count": null,
            "_view_module": "@jupyter-widgets/base",
            "_view_module_version": "1.2.0",
            "_view_name": "LayoutView",
            "align_content": null,
            "align_items": null,
            "align_self": null,
            "border": null,
            "bottom": null,
            "display": null,
            "flex": null,
            "flex_flow": null,
            "grid_area": null,
            "grid_auto_columns": null,
            "grid_auto_flow": null,
            "grid_auto_rows": null,
            "grid_column": null,
            "grid_gap": null,
            "grid_row": null,
            "grid_template_areas": null,
            "grid_template_columns": null,
            "grid_template_rows": null,
            "height": null,
            "justify_content": null,
            "justify_items": null,
            "left": null,
            "margin": null,
            "max_height": null,
            "max_width": null,
            "min_height": null,
            "min_width": null,
            "object_fit": null,
            "object_position": null,
            "order": null,
            "overflow": null,
            "overflow_x": null,
            "overflow_y": null,
            "padding": null,
            "right": null,
            "top": null,
            "visibility": null,
            "width": null
          }
        },
        "275196eb10a24bc5bf7b5ae7ad3cb36f": {
          "model_module": "@jupyter-widgets/controls",
          "model_module_version": "1.5.0",
          "model_name": "DescriptionStyleModel",
          "state": {
            "_model_module": "@jupyter-widgets/controls",
            "_model_module_version": "1.5.0",
            "_model_name": "DescriptionStyleModel",
            "_view_count": null,
            "_view_module": "@jupyter-widgets/base",
            "_view_module_version": "1.2.0",
            "_view_name": "StyleView",
            "description_width": ""
          }
        },
        "29a8e6adfe054bb699304f0b63ae119a": {
          "model_module": "@jupyter-widgets/controls",
          "model_module_version": "1.5.0",
          "model_name": "FloatProgressModel",
          "state": {
            "_dom_classes": [],
            "_model_module": "@jupyter-widgets/controls",
            "_model_module_version": "1.5.0",
            "_model_name": "FloatProgressModel",
            "_view_count": null,
            "_view_module": "@jupyter-widgets/controls",
            "_view_module_version": "1.5.0",
            "_view_name": "ProgressView",
            "bar_style": "success",
            "description": "",
            "description_tooltip": null,
            "layout": "IPY_MODEL_452d720eb6a14f1fa7a823554601b26c",
            "max": 605551040,
            "min": 0,
            "orientation": "horizontal",
            "style": "IPY_MODEL_4ecbf8c124504c89a934409ce63a498f",
            "value": 605551040
          }
        },
        "41ebe383a19043fea4388b64cd8949bb": {
          "model_module": "@jupyter-widgets/controls",
          "model_module_version": "1.5.0",
          "model_name": "HBoxModel",
          "state": {
            "_dom_classes": [],
            "_model_module": "@jupyter-widgets/controls",
            "_model_module_version": "1.5.0",
            "_model_name": "HBoxModel",
            "_view_count": null,
            "_view_module": "@jupyter-widgets/controls",
            "_view_module_version": "1.5.0",
            "_view_name": "HBoxView",
            "box_style": "",
            "children": [
              "IPY_MODEL_ae4d5d3a9f204cc3bec5d99b6d7419d4",
              "IPY_MODEL_29a8e6adfe054bb699304f0b63ae119a",
              "IPY_MODEL_699d17895695452296dd3090ecef07e4"
            ],
            "layout": "IPY_MODEL_fef29c2f8f0b4175980222e5ef5b8678"
          }
        },
        "452d720eb6a14f1fa7a823554601b26c": {
          "model_module": "@jupyter-widgets/base",
          "model_module_version": "1.2.0",
          "model_name": "LayoutModel",
          "state": {
            "_model_module": "@jupyter-widgets/base",
            "_model_module_version": "1.2.0",
            "_model_name": "LayoutModel",
            "_view_count": null,
            "_view_module": "@jupyter-widgets/base",
            "_view_module_version": "1.2.0",
            "_view_name": "LayoutView",
            "align_content": null,
            "align_items": null,
            "align_self": null,
            "border": null,
            "bottom": null,
            "display": null,
            "flex": null,
            "flex_flow": null,
            "grid_area": null,
            "grid_auto_columns": null,
            "grid_auto_flow": null,
            "grid_auto_rows": null,
            "grid_column": null,
            "grid_gap": null,
            "grid_row": null,
            "grid_template_areas": null,
            "grid_template_columns": null,
            "grid_template_rows": null,
            "height": null,
            "justify_content": null,
            "justify_items": null,
            "left": null,
            "margin": null,
            "max_height": null,
            "max_width": null,
            "min_height": null,
            "min_width": null,
            "object_fit": null,
            "object_position": null,
            "order": null,
            "overflow": null,
            "overflow_x": null,
            "overflow_y": null,
            "padding": null,
            "right": null,
            "top": null,
            "visibility": null,
            "width": null
          }
        },
        "4999032b4c3444d396423bf526c13389": {
          "model_module": "@jupyter-widgets/base",
          "model_module_version": "1.2.0",
          "model_name": "LayoutModel",
          "state": {
            "_model_module": "@jupyter-widgets/base",
            "_model_module_version": "1.2.0",
            "_model_name": "LayoutModel",
            "_view_count": null,
            "_view_module": "@jupyter-widgets/base",
            "_view_module_version": "1.2.0",
            "_view_name": "LayoutView",
            "align_content": null,
            "align_items": null,
            "align_self": null,
            "border": null,
            "bottom": null,
            "display": null,
            "flex": null,
            "flex_flow": null,
            "grid_area": null,
            "grid_auto_columns": null,
            "grid_auto_flow": null,
            "grid_auto_rows": null,
            "grid_column": null,
            "grid_gap": null,
            "grid_row": null,
            "grid_template_areas": null,
            "grid_template_columns": null,
            "grid_template_rows": null,
            "height": null,
            "justify_content": null,
            "justify_items": null,
            "left": null,
            "margin": null,
            "max_height": null,
            "max_width": null,
            "min_height": null,
            "min_width": null,
            "object_fit": null,
            "object_position": null,
            "order": null,
            "overflow": null,
            "overflow_x": null,
            "overflow_y": null,
            "padding": null,
            "right": null,
            "top": null,
            "visibility": null,
            "width": null
          }
        },
        "4ecbf8c124504c89a934409ce63a498f": {
          "model_module": "@jupyter-widgets/controls",
          "model_module_version": "1.5.0",
          "model_name": "ProgressStyleModel",
          "state": {
            "_model_module": "@jupyter-widgets/controls",
            "_model_module_version": "1.5.0",
            "_model_name": "ProgressStyleModel",
            "_view_count": null,
            "_view_module": "@jupyter-widgets/base",
            "_view_module_version": "1.2.0",
            "_view_name": "StyleView",
            "bar_color": null,
            "description_width": ""
          }
        },
        "699d17895695452296dd3090ecef07e4": {
          "model_module": "@jupyter-widgets/controls",
          "model_module_version": "1.5.0",
          "model_name": "HTMLModel",
          "state": {
            "_dom_classes": [],
            "_model_module": "@jupyter-widgets/controls",
            "_model_module_version": "1.5.0",
            "_model_name": "HTMLModel",
            "_view_count": null,
            "_view_module": "@jupyter-widgets/controls",
            "_view_module_version": "1.5.0",
            "_view_name": "HTMLView",
            "description": "",
            "description_tooltip": null,
            "layout": "IPY_MODEL_4999032b4c3444d396423bf526c13389",
            "placeholder": "​",
            "style": "IPY_MODEL_baa095a2a8464336b9b05013238ae5fc",
            "value": " 606M/606M [00:13&lt;00:00, 42.9MB/s]"
          }
        },
        "ae4d5d3a9f204cc3bec5d99b6d7419d4": {
          "model_module": "@jupyter-widgets/controls",
          "model_module_version": "1.5.0",
          "model_name": "HTMLModel",
          "state": {
            "_dom_classes": [],
            "_model_module": "@jupyter-widgets/controls",
            "_model_module_version": "1.5.0",
            "_model_name": "HTMLModel",
            "_view_count": null,
            "_view_module": "@jupyter-widgets/controls",
            "_view_module_version": "1.5.0",
            "_view_name": "HTMLView",
            "description": "",
            "description_tooltip": null,
            "layout": "IPY_MODEL_15c3226d2d914926bec02d21e68574df",
            "placeholder": "​",
            "style": "IPY_MODEL_275196eb10a24bc5bf7b5ae7ad3cb36f",
            "value": "Downloading: 100%"
          }
        },
        "baa095a2a8464336b9b05013238ae5fc": {
          "model_module": "@jupyter-widgets/controls",
          "model_module_version": "1.5.0",
          "model_name": "DescriptionStyleModel",
          "state": {
            "_model_module": "@jupyter-widgets/controls",
            "_model_module_version": "1.5.0",
            "_model_name": "DescriptionStyleModel",
            "_view_count": null,
            "_view_module": "@jupyter-widgets/base",
            "_view_module_version": "1.2.0",
            "_view_name": "StyleView",
            "description_width": ""
          }
        },
        "fef29c2f8f0b4175980222e5ef5b8678": {
          "model_module": "@jupyter-widgets/base",
          "model_module_version": "1.2.0",
          "model_name": "LayoutModel",
          "state": {
            "_model_module": "@jupyter-widgets/base",
            "_model_module_version": "1.2.0",
            "_model_name": "LayoutModel",
            "_view_count": null,
            "_view_module": "@jupyter-widgets/base",
            "_view_module_version": "1.2.0",
            "_view_name": "LayoutView",
            "align_content": null,
            "align_items": null,
            "align_self": null,
            "border": null,
            "bottom": null,
            "display": null,
            "flex": null,
            "flex_flow": null,
            "grid_area": null,
            "grid_auto_columns": null,
            "grid_auto_flow": null,
            "grid_auto_rows": null,
            "grid_column": null,
            "grid_gap": null,
            "grid_row": null,
            "grid_template_areas": null,
            "grid_template_columns": null,
            "grid_template_rows": null,
            "height": null,
            "justify_content": null,
            "justify_items": null,
            "left": null,
            "margin": null,
            "max_height": null,
            "max_width": null,
            "min_height": null,
            "min_width": null,
            "object_fit": null,
            "object_position": null,
            "order": null,
            "overflow": null,
            "overflow_x": null,
            "overflow_y": null,
            "padding": null,
            "right": null,
            "top": null,
            "visibility": null,
            "width": null
          }
        }
      }
    }
  },
  "nbformat": 4,
  "nbformat_minor": 0
}