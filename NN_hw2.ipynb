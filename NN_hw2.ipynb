{
  "nbformat": 4,
  "nbformat_minor": 0,
  "metadata": {
    "colab": {
      "provenance": [],
      "collapsed_sections": []
    },
    "kernelspec": {
      "name": "python3",
      "display_name": "Python 3"
    },
    "language_info": {
      "name": "python"
    },
    "accelerator": "GPU"
  },
  "cells": [
    {
      "cell_type": "markdown",
      "source": [
        "## Практическое задание\n",
        "\n",
        "Используем набор примеров fashion-MNIST\n",
        "\n",
        "1.  Опишите - какой результата получен в нейросети в зависимости от:\n",
        "  -  числа нейронов в слое(для 2-хслойной сети), \n",
        "  - числа слоев (2, 3, 5, 10) при близких размерах сети (близкое число тренируемых парметров).\n",
        "  - фиксируйте для тренировочного и тестового набора метрики accuracy.\n",
        "2.  Проверьте работу разных оптимизаторов (SGD, Adam, RMSProp) для одной из моделей п.1.Фиксируйте для тренировочного и тестового набора метрики accuracy.\n",
        "\n",
        "3. Сделайте вывод - что помогло вам улучшить качество классификации в нейросети на тестовом наборе? \n",
        "\n",
        "4. Для одного варианта сетей сформируйте матрицу ошибок по классам. Оцените качество модели по каждому классу отдельно (полнота , точность). Сделайте вывод."
      ],
      "metadata": {
        "id": "ZmQrjFZay6wQ"
      }
    },
    {
      "cell_type": "code",
      "source": [
        "import numpy as np\n",
        "import tensorflow as tf\n",
        "import matplotlib.pyplot as plt\n",
        "from sklearn.model_selection import train_test_split\n",
        "\n",
        "from keras.datasets import fashion_mnist\n",
        "\n",
        "from tensorflow.keras.models import Sequential\n",
        "from tensorflow.keras.layers import Dense, Input, Lambda\n",
        "from tensorflow.keras.utils import to_categorical"
      ],
      "metadata": {
        "id": "vDmUGOwmy-WZ"
      },
      "execution_count": null,
      "outputs": []
    },
    {
      "cell_type": "code",
      "source": [
        "(train_images,train_labels),(test_images, test_labels) = fashion_mnist.load_data()"
      ],
      "metadata": {
        "id": "Ahk0M8wQzjWA",
        "colab": {
          "base_uri": "https://localhost:8080/"
        },
        "outputId": "4e365c03-533d-459d-fc38-aee85d76eda3"
      },
      "execution_count": null,
      "outputs": [
        {
          "output_type": "stream",
          "name": "stdout",
          "text": [
            "Downloading data from https://storage.googleapis.com/tensorflow/tf-keras-datasets/train-labels-idx1-ubyte.gz\n",
            "32768/29515 [=================================] - 0s 0us/step\n",
            "40960/29515 [=========================================] - 0s 0us/step\n",
            "Downloading data from https://storage.googleapis.com/tensorflow/tf-keras-datasets/train-images-idx3-ubyte.gz\n",
            "26427392/26421880 [==============================] - 0s 0us/step\n",
            "26435584/26421880 [==============================] - 0s 0us/step\n",
            "Downloading data from https://storage.googleapis.com/tensorflow/tf-keras-datasets/t10k-labels-idx1-ubyte.gz\n",
            "16384/5148 [===============================================================================================] - 0s 0us/step\n",
            "Downloading data from https://storage.googleapis.com/tensorflow/tf-keras-datasets/t10k-images-idx3-ubyte.gz\n",
            "4423680/4422102 [==============================] - 0s 0us/step\n",
            "4431872/4422102 [==============================] - 0s 0us/step\n"
          ]
        }
      ]
    },
    {
      "cell_type": "code",
      "source": [
        "train_images = np.expand_dims(train_images, -1)\n",
        "test_images = np.expand_dims(test_images, -1)\n",
        "\n",
        "y_train, y_test = to_categorical(train_labels), to_categorical(test_labels)"
      ],
      "metadata": {
        "id": "ntDC2JWrz1CN"
      },
      "execution_count": null,
      "outputs": []
    },
    {
      "cell_type": "code",
      "source": [
        "plt.imshow(train_images[np.random.randint(len(train_images))].squeeze(), cmap=\"gray\")\n",
        "plt.show()"
      ],
      "metadata": {
        "colab": {
          "base_uri": "https://localhost:8080/",
          "height": 265
        },
        "id": "nc-wOuvH0n3x",
        "outputId": "d04d7444-e4c3-4a84-cc04-763ff1acf6a0"
      },
      "execution_count": null,
      "outputs": [
        {
          "output_type": "display_data",
          "data": {
            "text/plain": [
              "<Figure size 432x288 with 1 Axes>"
            ],
            "image/png": "[encoded data removed]"
          },
          "metadata": {
            "needs_background": "light"
          }
        }
      ]
    },
    {
      "cell_type": "code",
      "source": [
        "train_images = train_images / 255.\n",
        "test_images = test_images / 255."
      ],
      "metadata": {
        "id": "A2Ok9_ZFzr5D"
      },
      "execution_count": null,
      "outputs": []
    },
    {
      "cell_type": "code",
      "source": [
        "valid_images, test_images, y_valid, y_test = train_test_split(test_images, y_test, test_size=0.5, random_state=42)"
      ],
      "metadata": {
        "id": "UGOQ5KmAa-az"
      },
      "execution_count": null,
      "outputs": []
    },
    {
      "cell_type": "code",
      "source": [
        "batch_size = 128\n",
        "buffer_size = 256"
      ],
      "metadata": {
        "id": "K7MbWRERbwX6"
      },
      "execution_count": null,
      "outputs": []
    },
    {
      "cell_type": "code",
      "source": [
        "AUTOTUNE = tf.data.AUTOTUNE\n",
        "\n",
        "train_ds = tf.data.Dataset.from_tensor_slices((train_images.reshape((-1, 784)), y_train)).shuffle(buffer_size).batch(batch_size).prefetch(AUTOTUNE)\n",
        "valid_ds = tf.data.Dataset.from_tensor_slices((valid_images.reshape((-1, 784)), y_valid)).batch(batch_size).prefetch(AUTOTUNE)\n",
        "test_ds = tf.data.Dataset.from_tensor_slices((test_images.reshape((-1, 784)), y_test)).batch(batch_size).prefetch(AUTOTUNE)"
      ],
      "metadata": {
        "id": "VAoBRls07qLX"
      },
      "execution_count": null,
      "outputs": []
    },
    {
      "cell_type": "code",
      "source": [
        "num_neurons = [512, 256, 128]\n",
        "\n",
        "for i, neurons in enumerate(num_neurons):\n",
        "    model = Sequential([\n",
        "        Dense(neurons, activation=\"relu\", input_shape=(784,)),\n",
        "        Dense(10, activation=\"softmax\")\n",
        "    ])\n",
        "    model.compile(optimizer=\"adam\", loss=\"categorical_crossentropy\", metrics=[\"accuracy\"])  # default lr = 1e-3\n",
        "    print(f\"Experiment {i+1} with {neurons} neurons\".center(100, \"_\"))\n",
        "    history = model.fit(train_ds,\n",
        "                        epochs=15,\n",
        "                        validation_data=valid_ds,\n",
        "                        verbose=1)\n",
        "    model.evaluate(test_ds)"
      ],
      "metadata": {
        "colab": {
          "base_uri": "https://localhost:8080/"
        },
        "id": "yY8q0qiHctD2",
        "outputId": "e84265a9-2982-47b1-838d-7254c1cfa246"
      },
      "execution_count": null,
      "outputs": [
        {
          "output_type": "stream",
          "name": "stdout",
          "text": [
            "___________________________________Experiment 1 with 512 neurons____________________________________\n",
            "Epoch 1/15\n",
            "469/469 [==============================] - 2s 4ms/step - loss: 0.5081 - accuracy: 0.8220 - val_loss: 0.4365 - val_accuracy: 0.8452\n",
            "Epoch 2/15\n",
            "469/469 [==============================] - 2s 4ms/step - loss: 0.3749 - accuracy: 0.8663 - val_loss: 0.4031 - val_accuracy: 0.8600\n",
            "Epoch 3/15\n",
            "469/469 [==============================] - 2s 4ms/step - loss: 0.3306 - accuracy: 0.8813 - val_loss: 0.3664 - val_accuracy: 0.8708\n",
            "Epoch 4/15\n",
            "469/469 [==============================] - 2s 4ms/step - loss: 0.3059 - accuracy: 0.8889 - val_loss: 0.3760 - val_accuracy: 0.8642\n",
            "Epoch 5/15\n",
            "469/469 [==============================] - 2s 4ms/step - loss: 0.2846 - accuracy: 0.8968 - val_loss: 0.3449 - val_accuracy: 0.8826\n",
            "Epoch 6/15\n",
            "469/469 [==============================] - 2s 4ms/step - loss: 0.2722 - accuracy: 0.9009 - val_loss: 0.3387 - val_accuracy: 0.8820\n",
            "Epoch 7/15\n",
            "469/469 [==============================] - 2s 4ms/step - loss: 0.2569 - accuracy: 0.9060 - val_loss: 0.3339 - val_accuracy: 0.8856\n",
            "Epoch 8/15\n",
            "469/469 [==============================] - 2s 4ms/step - loss: 0.2449 - accuracy: 0.9105 - val_loss: 0.3381 - val_accuracy: 0.8838\n",
            "Epoch 9/15\n",
            "469/469 [==============================] - 2s 4ms/step - loss: 0.2333 - accuracy: 0.9129 - val_loss: 0.3352 - val_accuracy: 0.8846\n",
            "Epoch 10/15\n",
            "469/469 [==============================] - 2s 4ms/step - loss: 0.2227 - accuracy: 0.9171 - val_loss: 0.3314 - val_accuracy: 0.8862\n",
            "Epoch 11/15\n",
            "469/469 [==============================] - 2s 4ms/step - loss: 0.2136 - accuracy: 0.9202 - val_loss: 0.3417 - val_accuracy: 0.8862\n",
            "Epoch 12/15\n",
            "469/469 [==============================] - 2s 4ms/step - loss: 0.2027 - accuracy: 0.9250 - val_loss: 0.3386 - val_accuracy: 0.8912\n",
            "Epoch 13/15\n",
            "469/469 [==============================] - 2s 4ms/step - loss: 0.1949 - accuracy: 0.9276 - val_loss: 0.3510 - val_accuracy: 0.8862\n",
            "Epoch 14/15\n",
            "469/469 [==============================] - 3s 6ms/step - loss: 0.1886 - accuracy: 0.9311 - val_loss: 0.3572 - val_accuracy: 0.8862\n",
            "Epoch 15/15\n",
            "469/469 [==============================] - 2s 4ms/step - loss: 0.1792 - accuracy: 0.9334 - val_loss: 0.3702 - val_accuracy: 0.8802\n",
            "40/40 [==============================] - 0s 3ms/step - loss: 0.3522 - accuracy: 0.8800\n",
            "___________________________________Experiment 2 with 256 neurons____________________________________\n",
            "Epoch 1/15\n",
            "469/469 [==============================] - 3s 5ms/step - loss: 0.5212 - accuracy: 0.8175 - val_loss: 0.4463 - val_accuracy: 0.8458\n",
            "Epoch 2/15\n",
            "469/469 [==============================] - 2s 4ms/step - loss: 0.3813 - accuracy: 0.8648 - val_loss: 0.3982 - val_accuracy: 0.8560\n",
            "Epoch 3/15\n",
            "469/469 [==============================] - 2s 4ms/step - loss: 0.3443 - accuracy: 0.8756 - val_loss: 0.3721 - val_accuracy: 0.8670\n",
            "Epoch 4/15\n",
            "469/469 [==============================] - 2s 4ms/step - loss: 0.3186 - accuracy: 0.8839 - val_loss: 0.3555 - val_accuracy: 0.8718\n",
            "Epoch 5/15\n",
            "469/469 [==============================] - 2s 4ms/step - loss: 0.2958 - accuracy: 0.8921 - val_loss: 0.3492 - val_accuracy: 0.8742\n",
            "Epoch 6/15\n",
            "469/469 [==============================] - 2s 4ms/step - loss: 0.2796 - accuracy: 0.8976 - val_loss: 0.3567 - val_accuracy: 0.8720\n",
            "Epoch 7/15\n",
            "469/469 [==============================] - 2s 4ms/step - loss: 0.2670 - accuracy: 0.9021 - val_loss: 0.3423 - val_accuracy: 0.8796\n",
            "Epoch 8/15\n",
            "469/469 [==============================] - 2s 4ms/step - loss: 0.2563 - accuracy: 0.9055 - val_loss: 0.3324 - val_accuracy: 0.8812\n",
            "Epoch 9/15\n",
            "469/469 [==============================] - 2s 4ms/step - loss: 0.2433 - accuracy: 0.9108 - val_loss: 0.3367 - val_accuracy: 0.8840\n",
            "Epoch 10/15\n",
            "469/469 [==============================] - 2s 4ms/step - loss: 0.2345 - accuracy: 0.9141 - val_loss: 0.3422 - val_accuracy: 0.8816\n",
            "Epoch 11/15\n",
            "469/469 [==============================] - 2s 4ms/step - loss: 0.2249 - accuracy: 0.9172 - val_loss: 0.3436 - val_accuracy: 0.8822\n",
            "Epoch 12/15\n",
            "469/469 [==============================] - 2s 4ms/step - loss: 0.2156 - accuracy: 0.9213 - val_loss: 0.3411 - val_accuracy: 0.8828\n",
            "Epoch 13/15\n",
            "469/469 [==============================] - 2s 4ms/step - loss: 0.2104 - accuracy: 0.9227 - val_loss: 0.3453 - val_accuracy: 0.8822\n",
            "Epoch 14/15\n",
            "469/469 [==============================] - 2s 4ms/step - loss: 0.2011 - accuracy: 0.9256 - val_loss: 0.3380 - val_accuracy: 0.8852\n",
            "Epoch 15/15\n",
            "469/469 [==============================] - 2s 4ms/step - loss: 0.1930 - accuracy: 0.9287 - val_loss: 0.3395 - val_accuracy: 0.8844\n",
            "40/40 [==============================] - 0s 3ms/step - loss: 0.3346 - accuracy: 0.8814\n",
            "___________________________________Experiment 3 with 128 neurons____________________________________\n",
            "Epoch 1/15\n",
            "469/469 [==============================] - 2s 4ms/step - loss: 0.5519 - accuracy: 0.8101 - val_loss: 0.4549 - val_accuracy: 0.8378\n",
            "Epoch 2/15\n",
            "469/469 [==============================] - 2s 4ms/step - loss: 0.4024 - accuracy: 0.8600 - val_loss: 0.4126 - val_accuracy: 0.8552\n",
            "Epoch 3/15\n",
            "469/469 [==============================] - 2s 4ms/step - loss: 0.3666 - accuracy: 0.8700 - val_loss: 0.3990 - val_accuracy: 0.8578\n",
            "Epoch 4/15\n",
            "469/469 [==============================] - 2s 4ms/step - loss: 0.3397 - accuracy: 0.8792 - val_loss: 0.3958 - val_accuracy: 0.8576\n",
            "Epoch 5/15\n",
            "469/469 [==============================] - 2s 4ms/step - loss: 0.3217 - accuracy: 0.8840 - val_loss: 0.3714 - val_accuracy: 0.8704\n",
            "Epoch 6/15\n",
            "469/469 [==============================] - 2s 4ms/step - loss: 0.3027 - accuracy: 0.8895 - val_loss: 0.3680 - val_accuracy: 0.8706\n",
            "Epoch 7/15\n",
            "469/469 [==============================] - 2s 4ms/step - loss: 0.2901 - accuracy: 0.8958 - val_loss: 0.3667 - val_accuracy: 0.8686\n",
            "Epoch 8/15\n",
            "469/469 [==============================] - 2s 4ms/step - loss: 0.2800 - accuracy: 0.8988 - val_loss: 0.3557 - val_accuracy: 0.8762\n",
            "Epoch 9/15\n",
            "469/469 [==============================] - 2s 4ms/step - loss: 0.2669 - accuracy: 0.9027 - val_loss: 0.3487 - val_accuracy: 0.8794\n",
            "Epoch 10/15\n",
            "469/469 [==============================] - 2s 4ms/step - loss: 0.2607 - accuracy: 0.9042 - val_loss: 0.3584 - val_accuracy: 0.8740\n",
            "Epoch 11/15\n",
            "469/469 [==============================] - 2s 4ms/step - loss: 0.2493 - accuracy: 0.9082 - val_loss: 0.3464 - val_accuracy: 0.8802\n",
            "Epoch 12/15\n",
            "469/469 [==============================] - 2s 4ms/step - loss: 0.2428 - accuracy: 0.9117 - val_loss: 0.3437 - val_accuracy: 0.8810\n",
            "Epoch 13/15\n",
            "469/469 [==============================] - 2s 4ms/step - loss: 0.2358 - accuracy: 0.9133 - val_loss: 0.3441 - val_accuracy: 0.8848\n",
            "Epoch 14/15\n",
            "469/469 [==============================] - 2s 4ms/step - loss: 0.2297 - accuracy: 0.9157 - val_loss: 0.3346 - val_accuracy: 0.8854\n",
            "Epoch 15/15\n",
            "469/469 [==============================] - 2s 4ms/step - loss: 0.2234 - accuracy: 0.9186 - val_loss: 0.3453 - val_accuracy: 0.8846\n",
            "40/40 [==============================] - 0s 3ms/step - loss: 0.3403 - accuracy: 0.8768\n"
          ]
        }
      ]
    },
    {
      "cell_type": "code",
      "source": [
        "num_layers = [2,3,5,10]\n",
        "\n",
        "num_layers = [[16 * (2**j) for j in range(1, i)] for i in num_layers]\n",
        "num_layers"
      ],
      "metadata": {
        "colab": {
          "base_uri": "https://localhost:8080/"
        },
        "id": "YFo5LOT2vAdV",
        "outputId": "7aea99b5-2e4b-44c9-8e8c-63fc8610390e"
      },
      "execution_count": null,
      "outputs": [
        {
          "output_type": "execute_result",
          "data": {
            "text/plain": [
              "[[32],\n",
              " [32, 64],\n",
              " [32, 64, 128, 256],\n",
              " [32, 64, 128, 256, 512, 1024, 2048, 4096, 8192]]"
            ]
          },
          "metadata": {},
          "execution_count": 59
        }
      ]
    },
    {
      "cell_type": "code",
      "source": [
        "for i, layers in enumerate(num_layers): \n",
        "    layers = [Dense(neurons, activation=\"relu\") for neurons in sorted(num_layers[i], reverse=True)]\n",
        "    last_layer = [Dense(10, activation=\"softmax\")]\n",
        "    model = Sequential([Input(shape=(784,))] + layers + last_layer)\n",
        "\n",
        "    model.compile(optimizer=\"adam\", loss=\"categorical_crossentropy\", metrics=[\"accuracy\"])  # default lr = 1e-3\n",
        "    print(f\"Experiment {i+1} with {len(layers) + 1} layers\".center(100, \"_\"))\n",
        "    history = model.fit(train_ds,\n",
        "                        epochs=10,\n",
        "                        validation_data=valid_ds,\n",
        "                        verbose=2)\n",
        "    model.evaluate(test_ds)"
      ],
      "metadata": {
        "colab": {
          "base_uri": "https://localhost:8080/"
        },
        "id": "0lzajZ9Rsiuj",
        "outputId": "fadaf6a4-60f0-4f65-b49a-5d0e667054e1"
      },
      "execution_count": null,
      "outputs": [
        {
          "output_type": "stream",
          "name": "stdout",
          "text": [
            "_____________________________________Experiment 1 with 2 layers_____________________________________\n",
            "Epoch 1/10\n",
            "469/469 - 2s - loss: 0.6705 - accuracy: 0.7746 - val_loss: 0.5216 - val_accuracy: 0.8166 - 2s/epoch - 4ms/step\n",
            "Epoch 2/10\n",
            "469/469 - 2s - loss: 0.4602 - accuracy: 0.8416 - val_loss: 0.4826 - val_accuracy: 0.8280 - 2s/epoch - 3ms/step\n",
            "Epoch 3/10\n",
            "469/469 - 1s - loss: 0.4215 - accuracy: 0.8538 - val_loss: 0.4477 - val_accuracy: 0.8372 - 1s/epoch - 3ms/step\n",
            "Epoch 4/10\n",
            "469/469 - 1s - loss: 0.3989 - accuracy: 0.8599 - val_loss: 0.4383 - val_accuracy: 0.8430 - 1s/epoch - 3ms/step\n",
            "Epoch 5/10\n",
            "469/469 - 2s - loss: 0.3817 - accuracy: 0.8667 - val_loss: 0.4239 - val_accuracy: 0.8492 - 2s/epoch - 3ms/step\n",
            "Epoch 6/10\n",
            "469/469 - 2s - loss: 0.3689 - accuracy: 0.8701 - val_loss: 0.4179 - val_accuracy: 0.8522 - 2s/epoch - 3ms/step\n",
            "Epoch 7/10\n",
            "469/469 - 2s - loss: 0.3586 - accuracy: 0.8737 - val_loss: 0.4090 - val_accuracy: 0.8560 - 2s/epoch - 3ms/step\n",
            "Epoch 8/10\n",
            "469/469 - 2s - loss: 0.3480 - accuracy: 0.8770 - val_loss: 0.3962 - val_accuracy: 0.8584 - 2s/epoch - 3ms/step\n",
            "Epoch 9/10\n",
            "469/469 - 1s - loss: 0.3391 - accuracy: 0.8795 - val_loss: 0.4047 - val_accuracy: 0.8586 - 1s/epoch - 3ms/step\n",
            "Epoch 10/10\n",
            "469/469 - 1s - loss: 0.3311 - accuracy: 0.8822 - val_loss: 0.3909 - val_accuracy: 0.8616 - 1s/epoch - 3ms/step\n",
            "40/40 [==============================] - 0s 3ms/step - loss: 0.3812 - accuracy: 0.8678\n",
            "_____________________________________Experiment 2 with 3 layers_____________________________________\n",
            "Epoch 1/10\n",
            "469/469 - 2s - loss: 0.6014 - accuracy: 0.7943 - val_loss: 0.4758 - val_accuracy: 0.8336 - 2s/epoch - 4ms/step\n",
            "Epoch 2/10\n",
            "469/469 - 2s - loss: 0.4156 - accuracy: 0.8530 - val_loss: 0.4190 - val_accuracy: 0.8538 - 2s/epoch - 3ms/step\n",
            "Epoch 3/10\n",
            "469/469 - 2s - loss: 0.3771 - accuracy: 0.8651 - val_loss: 0.4102 - val_accuracy: 0.8542 - 2s/epoch - 3ms/step\n",
            "Epoch 4/10\n",
            "469/469 - 2s - loss: 0.3524 - accuracy: 0.8728 - val_loss: 0.4010 - val_accuracy: 0.8534 - 2s/epoch - 4ms/step\n",
            "Epoch 5/10\n",
            "469/469 - 2s - loss: 0.3329 - accuracy: 0.8798 - val_loss: 0.3814 - val_accuracy: 0.8680 - 2s/epoch - 4ms/step\n",
            "Epoch 6/10\n",
            "469/469 - 2s - loss: 0.3172 - accuracy: 0.8849 - val_loss: 0.3808 - val_accuracy: 0.8624 - 2s/epoch - 3ms/step\n",
            "Epoch 7/10\n",
            "469/469 - 2s - loss: 0.3024 - accuracy: 0.8913 - val_loss: 0.3677 - val_accuracy: 0.8690 - 2s/epoch - 3ms/step\n",
            "Epoch 8/10\n",
            "469/469 - 2s - loss: 0.2931 - accuracy: 0.8929 - val_loss: 0.3637 - val_accuracy: 0.8708 - 2s/epoch - 3ms/step\n",
            "Epoch 9/10\n",
            "469/469 - 2s - loss: 0.2834 - accuracy: 0.8966 - val_loss: 0.3633 - val_accuracy: 0.8734 - 2s/epoch - 3ms/step\n",
            "Epoch 10/10\n",
            "469/469 - 2s - loss: 0.2732 - accuracy: 0.8996 - val_loss: 0.3673 - val_accuracy: 0.8728 - 2s/epoch - 3ms/step\n",
            "40/40 [==============================] - 0s 4ms/step - loss: 0.3575 - accuracy: 0.8702\n",
            "_____________________________________Experiment 3 with 5 layers_____________________________________\n",
            "Epoch 1/10\n",
            "469/469 - 2s - loss: 0.5579 - accuracy: 0.8047 - val_loss: 0.4384 - val_accuracy: 0.8406 - 2s/epoch - 5ms/step\n",
            "Epoch 2/10\n",
            "469/469 - 2s - loss: 0.3719 - accuracy: 0.8658 - val_loss: 0.4018 - val_accuracy: 0.8564 - 2s/epoch - 4ms/step\n",
            "Epoch 3/10\n",
            "469/469 - 2s - loss: 0.3341 - accuracy: 0.8767 - val_loss: 0.3638 - val_accuracy: 0.8704 - 2s/epoch - 4ms/step\n",
            "Epoch 4/10\n",
            "469/469 - 2s - loss: 0.3105 - accuracy: 0.8862 - val_loss: 0.3616 - val_accuracy: 0.8706 - 2s/epoch - 4ms/step\n",
            "Epoch 5/10\n",
            "469/469 - 2s - loss: 0.2913 - accuracy: 0.8923 - val_loss: 0.3494 - val_accuracy: 0.8748 - 2s/epoch - 4ms/step\n",
            "Epoch 6/10\n",
            "469/469 - 2s - loss: 0.2732 - accuracy: 0.8983 - val_loss: 0.3590 - val_accuracy: 0.8776 - 2s/epoch - 4ms/step\n",
            "Epoch 7/10\n",
            "469/469 - 2s - loss: 0.2607 - accuracy: 0.9028 - val_loss: 0.3409 - val_accuracy: 0.8810 - 2s/epoch - 4ms/step\n",
            "Epoch 8/10\n",
            "469/469 - 2s - loss: 0.2512 - accuracy: 0.9064 - val_loss: 0.3432 - val_accuracy: 0.8846 - 2s/epoch - 4ms/step\n",
            "Epoch 9/10\n",
            "469/469 - 2s - loss: 0.2413 - accuracy: 0.9093 - val_loss: 0.3527 - val_accuracy: 0.8804 - 2s/epoch - 4ms/step\n",
            "Epoch 10/10\n",
            "469/469 - 2s - loss: 0.2311 - accuracy: 0.9126 - val_loss: 0.3529 - val_accuracy: 0.8816 - 2s/epoch - 4ms/step\n",
            "40/40 [==============================] - 0s 3ms/step - loss: 0.3311 - accuracy: 0.8810\n",
            "____________________________________Experiment 4 with 10 layers_____________________________________\n",
            "Epoch 1/10\n",
            "469/469 - 9s - loss: 0.6782 - accuracy: 0.7615 - val_loss: 0.4692 - val_accuracy: 0.8362 - 9s/epoch - 19ms/step\n",
            "Epoch 2/10\n",
            "469/469 - 8s - loss: 0.4081 - accuracy: 0.8568 - val_loss: 0.4202 - val_accuracy: 0.8478 - 8s/epoch - 18ms/step\n",
            "Epoch 3/10\n",
            "469/469 - 8s - loss: 0.3670 - accuracy: 0.8698 - val_loss: 0.3694 - val_accuracy: 0.8724 - 8s/epoch - 18ms/step\n",
            "Epoch 4/10\n",
            "469/469 - 8s - loss: 0.3409 - accuracy: 0.8779 - val_loss: 0.3807 - val_accuracy: 0.8694 - 8s/epoch - 18ms/step\n",
            "Epoch 5/10\n",
            "469/469 - 8s - loss: 0.3170 - accuracy: 0.8856 - val_loss: 0.4035 - val_accuracy: 0.8688 - 8s/epoch - 18ms/step\n",
            "Epoch 6/10\n",
            "469/469 - 8s - loss: 0.3073 - accuracy: 0.8896 - val_loss: 0.3758 - val_accuracy: 0.8686 - 8s/epoch - 18ms/step\n",
            "Epoch 7/10\n",
            "469/469 - 9s - loss: 0.2846 - accuracy: 0.8965 - val_loss: 0.3782 - val_accuracy: 0.8742 - 9s/epoch - 18ms/step\n",
            "Epoch 8/10\n",
            "469/469 - 8s - loss: 0.2732 - accuracy: 0.8996 - val_loss: 0.3598 - val_accuracy: 0.8856 - 8s/epoch - 18ms/step\n",
            "Epoch 9/10\n",
            "469/469 - 8s - loss: 0.2587 - accuracy: 0.9041 - val_loss: 0.3797 - val_accuracy: 0.8802 - 8s/epoch - 18ms/step\n",
            "Epoch 10/10\n",
            "469/469 - 8s - loss: 0.2533 - accuracy: 0.9062 - val_loss: 0.3752 - val_accuracy: 0.8824 - 8s/epoch - 18ms/step\n",
            "40/40 [==============================] - 0s 5ms/step - loss: 0.3838 - accuracy: 0.8716\n"
          ]
        }
      ]
    },
    {
      "cell_type": "markdown",
      "source": [
        "**Промежуточные Выводы**\n",
        "\n",
        "* сложно сказать насколько различия в полученных значенияч метрики являются статистически значимыми - почти все модели переобучились, а отличие небольшое, возможно, стоит добавить регуляризацию и провести больше независимых экспериментов (начальные веса инициализируются случайным образом, что тоже может привести к различиям к итоговой метрики, особоенно когда от модели к модели она отличается не сильно);\n",
        "* качество сильно зависист от глубины сети (количества слоев) и размера (количества нейоров) скрытых слоев: чем больше, тем больше модель способна уловить паттернов в данных. Однако при слишком большом их количестве точность модели может сильно упасть или модель вовсе сильно переобучится. Нужно искать баланс, исходя из данных.\n",
        "* Очень важно для каждого варианта сети подыскать оптимальные: скорость обучения, размер пакета (ксати, есть высокая зависимость между скоростью обучения и размером пакета; в некоторых научных работах даже утверждается, что менять можно только размер пакета при неизменной скорости обучения), степень регуляризации и т.д.\n"
      ],
      "metadata": {
        "id": "HUAY4N2Q4lt1"
      }
    },
    {
      "cell_type": "code",
      "source": [
        "model = Sequential([Dense(128, activation=\"relu\", input_shape=(784,)),\n",
        "                    Dense(64, activation='relu'),\n",
        "                    Dense(10, activation='softmax'),\n",
        "                    ])\n",
        "\n",
        "model.save_weights('model.h5')\n",
        "\n",
        "epochs = 15\n",
        "\n",
        "for i, optim in enumerate(['SGD','RMSProp','adam','NAdam']):\n",
        "    model = Sequential([\n",
        "                        Dense(128, activation=\"relu\", input_shape=(784,)),\n",
        "                        Dense(64, activation='relu'),\n",
        "                        Dense(10, activation='softmax'),\n",
        "                        ])  \n",
        "    model.load_weights('model.h5')\n",
        "    model.compile(optimizer=optim, loss='categorical_crossentropy', metrics=['accuracy'],)\n",
        "\n",
        "    history = model.fit(\n",
        "                        train_ds,\n",
        "                        epochs=epochs,\n",
        "                        validation_data=valid_ds,\n",
        "                        verbose=0\n",
        "                        )\n",
        "    train_acc = model.evaluate(train_ds, verbose = 0)\n",
        "    valid_acc = model.evaluate(test_ds, verbose = 0)\n",
        "    print(f\"Experiment with '{optim}': train accuracy: {train_acc[1]:.4f}, test accuracy: {valid_acc[1]:.4f}\".center(40, \"_\"),\"\\n\")"
      ],
      "metadata": {
        "colab": {
          "base_uri": "https://localhost:8080/"
        },
        "id": "TpA_5fkT1bhE",
        "outputId": "f9c8c323-7bb2-4069-e8e3-c1b8f84bc789"
      },
      "execution_count": null,
      "outputs": [
        {
          "output_type": "stream",
          "name": "stdout",
          "text": [
            "Experiment with 'SGD': train accuracy: 0.8569, test accuracy: 0.8448 \n",
            "\n",
            "Experiment with 'RMSProp': train accuracy: 0.9212, test accuracy: 0.8878 \n",
            "\n",
            "Experiment with 'adam': train accuracy: 0.9182, test accuracy: 0.8746 \n",
            "\n",
            "Experiment with 'NAdam': train accuracy: 0.9241, test accuracy: 0.8820 \n",
            "\n"
          ]
        }
      ]
    },
    {
      "cell_type": "markdown",
      "source": [
        "Снова сложно сделать уверенное утверждение. Однако, очевидно, что в данном случае адаптивные оптимизаторы дают небольшой прирост в качестве. Здесь стоит не забывать, что SGD может потребоваться больше времени на сходимость, а также что он считается более устойчивым в вычислительном плане."
      ],
      "metadata": {
        "id": "wpIzG_CBAapX"
      }
    },
    {
      "cell_type": "code",
      "source": [
        "from itertools import product\n",
        "from sklearn.metrics import confusion_matrix\n",
        "\n",
        "def plot_confusion_matrix(cm,\n",
        "                          target_names,\n",
        "                          title='Confusion matrix',\n",
        "                          cmap=None,\n",
        "                          normalize=True):\n",
        "\n",
        "    accuracy = np.trace(cm) / float(np.sum(cm))\n",
        "    misclass = 1 - accuracy\n",
        "\n",
        "    if cmap is None:\n",
        "        cmap = plt.get_cmap('Blues')\n",
        "\n",
        "    plt.figure(figsize=(8, 6))\n",
        "    plt.imshow(cm, interpolation='nearest', cmap=cmap)\n",
        "    plt.title(title)\n",
        "    plt.colorbar()\n",
        "\n",
        "    if target_names is not None:\n",
        "        tick_marks = np.arange(len(target_names))\n",
        "        plt.xticks(tick_marks, target_names, rotation=45)\n",
        "        plt.yticks(tick_marks, target_names)\n",
        "\n",
        "    if normalize:\n",
        "        cm = cm.astype('float') / cm.sum(axis=1)[:, np.newaxis]\n",
        "\n",
        "\n",
        "    thresh = cm.max() / 1.5 if normalize else cm.max() / 2\n",
        "    for i, j in product(range(cm.shape[0]), range(cm.shape[1])):\n",
        "        if normalize:\n",
        "            plt.text(j, i, \"{:0.4f}\".format(cm[i, j]),\n",
        "                     horizontalalignment=\"center\",\n",
        "                     color=\"white\" if cm[i, j] > thresh else \"black\")\n",
        "        else:\n",
        "            plt.text(j, i, \"{:,}\".format(cm[i, j]),\n",
        "                     horizontalalignment=\"center\",\n",
        "                     color=\"white\" if cm[i, j] > thresh else \"black\")\n",
        "\n",
        "\n",
        "    plt.tight_layout()\n",
        "    plt.ylabel('True label')\n",
        "    plt.xlabel('Predicted label\\naccuracy={:0.4f}; misclass={:0.4f}'.format(accuracy, misclass))\n",
        "    plt.show()"
      ],
      "metadata": {
        "id": "_9EsV7jqChjR"
      },
      "execution_count": null,
      "outputs": []
    },
    {
      "cell_type": "code",
      "source": [
        "y_true = y_test.argmax(1)\n",
        "y_pred = model.predict(test_images.reshape((-1, 784))).argmax(1)\n",
        "\n",
        "cnf_matrix = confusion_matrix(y_true, y_pred)\n",
        "plt.figure(figsize=(5, 5))\n",
        "plot_confusion_matrix(cnf_matrix, target_names=[i for i in range(10)], normalize=False, title='Confusion matrix',)\n",
        "plt.show()"
      ],
      "metadata": {
        "colab": {
          "base_uri": "https://localhost:8080/",
          "height": 484
        },
        "id": "S8w7v8RI9zkk",
        "outputId": "1287cfde-923a-47ed-c6f5-320c9eb7f644"
      },
      "execution_count": null,
      "outputs": [
        {
          "output_type": "display_data",
          "data": {
            "text/plain": [
              "<Figure size 360x360 with 0 Axes>"
            ]
          },
          "metadata": {}
        },
        {
          "output_type": "display_data",
          "data": {
            "text/plain": [
              "<Figure size 576x432 with 2 Axes>"
            ],
            "image/png": "[encoded data removed]"
          },
          "metadata": {
            "needs_background": "light"
          }
        }
      ]
    },
    {
      "cell_type": "code",
      "source": [
        "from sklearn.metrics import classification_report\n",
        "\n",
        "print(classification_report(y_true, y_pred))\n",
        "# хуже всего модель справляется с классом 6"
      ],
      "metadata": {
        "colab": {
          "base_uri": "https://localhost:8080/"
        },
        "id": "ZUA6ugGNC-nA",
        "outputId": "a7c2a7b9-670a-465c-9c26-c261772e77a8"
      },
      "execution_count": null,
      "outputs": [
        {
          "output_type": "stream",
          "name": "stdout",
          "text": [
            "              precision    recall  f1-score   support\n",
            "\n",
            "           0       0.80      0.89      0.84       487\n",
            "           1       0.99      0.97      0.98       492\n",
            "           2       0.83      0.74      0.78       514\n",
            "           3       0.85      0.91      0.88       478\n",
            "           4       0.77      0.82      0.80       506\n",
            "           5       0.99      0.95      0.97       519\n",
            "           6       0.73      0.64      0.68       496\n",
            "           7       0.94      0.97      0.95       522\n",
            "           8       0.96      0.99      0.97       490\n",
            "           9       0.95      0.96      0.95       496\n",
            "\n",
            "    accuracy                           0.88      5000\n",
            "   macro avg       0.88      0.88      0.88      5000\n",
            "weighted avg       0.88      0.88      0.88      5000\n",
            "\n"
          ]
        }
      ]
    },
    {
      "cell_type": "code",
      "source": [
        "plt.imshow(test_images[y_test.argmax(1) == 6][0].squeeze(), cmap=\"gray\")\n",
        "plt.show()"
      ],
      "metadata": {
        "colab": {
          "base_uri": "https://localhost:8080/",
          "height": 265
        },
        "id": "3VzkbKvtEZm_",
        "outputId": "9f8c9f99-73ba-4757-b999-6769ddc7c745"
      },
      "execution_count": null,
      "outputs": [
        {
          "output_type": "display_data",
          "data": {
            "text/plain": [
              "<Figure size 432x288 with 1 Axes>"
            ],
            "image/png": "[encoded data removed]"
          },
          "metadata": {
            "needs_background": "light"
          }
        }
      ]
    },
    {
      "cell_type": "code",
      "source": [
        "AUTOTUNE = tf.data.AUTOTUNE\n",
        "batch_size = 32\n",
        "\n",
        "train_ds = tf.data.Dataset.from_tensor_slices((train_images, y_train)).shuffle(buffer_size).batch(batch_size).prefetch(AUTOTUNE)\n",
        "valid_ds = tf.data.Dataset.from_tensor_slices((valid_images, y_valid)).batch(batch_size).prefetch(AUTOTUNE)\n",
        "test_ds = tf.data.Dataset.from_tensor_slices((test_images, y_test)).batch(batch_size).prefetch(AUTOTUNE)"
      ],
      "metadata": {
        "id": "dJ_tJcD9E02M"
      },
      "execution_count": null,
      "outputs": []
    },
    {
      "cell_type": "code",
      "source": [
        "num_classes = 10\n",
        "input_shape = (28, 28, 1)\n",
        "\n",
        "model = tf.keras.models.Sequential([\n",
        "                                    tf.keras.layers.Input(shape=input_shape),\n",
        "                                    tf.keras.layers.Conv2D(32, kernel_size=3, strides=1, padding='same', activation='relu'),\n",
        "                                    tf.keras.layers.Conv2D(32, kernel_size=3, strides=1, padding='same', activation='relu'),\n",
        "                                    tf.keras.layers.BatchNormalization(),\n",
        "                                    tf.keras.layers.MaxPool2D(2),\n",
        "                                    tf.keras.layers.Dropout(0.5),\n",
        "                                    tf.keras.layers.Conv2D(64, kernel_size=3, strides=1, padding='same', activation='relu'),\n",
        "                                    tf.keras.layers.Conv2D(64, kernel_size=3, strides=1, padding='same', activation='relu'),\n",
        "                                    tf.keras.layers.BatchNormalization(),\n",
        "                                    tf.keras.layers.MaxPool2D(2),\n",
        "                                    tf.keras.layers.Dropout(0.5),\n",
        "                                    tf.keras.layers.Conv2D(128, kernel_size=3, strides=1, padding='same', activation='relu'),\n",
        "                                    tf.keras.layers.Conv2D(128, kernel_size=3, strides=1, padding='same', activation='relu'),\n",
        "                                    tf.keras.layers.BatchNormalization(),\n",
        "                                    tf.keras.layers.MaxPool2D(2),\n",
        "                                    tf.keras.layers.Flatten(),\n",
        "                                    tf.keras.layers.Dropout(0.5),\n",
        "                                    tf.keras.layers.Dense(512, activation='relu', kernel_regularizer=tf.keras.regularizers.l2(1e-4)),\n",
        "                                    tf.keras.layers.BatchNormalization(),\n",
        "                                    tf.keras.layers.Dropout(0.5),\n",
        "                                    tf.keras.layers.Dense(256, activation='relu', kernel_regularizer=tf.keras.regularizers.l2(1e-4)),\n",
        "                                    tf.keras.layers.BatchNormalization(axis=1),\n",
        "                                    tf.keras.layers.Dropout(0.5),\n",
        "                                    tf.keras.layers.Dense(64, activation='relu', kernel_regularizer=tf.keras.regularizers.l2(1e-4)),\n",
        "                                    tf.keras.layers.BatchNormalization(),\n",
        "                                    tf.keras.layers.Dropout(0.3),\n",
        "                                    tf.keras.layers.Dense(num_classes, activation='softmax'),\n",
        "])"
      ],
      "metadata": {
        "id": "pqeKDGctE9pZ"
      },
      "execution_count": null,
      "outputs": []
    },
    {
      "cell_type": "code",
      "source": [
        "callbacks = [\n",
        "             tf.keras.callbacks.ReduceLROnPlateau(patience=3),\n",
        "             tf.keras.callbacks.EarlyStopping(monitor='val_loss', patience=6, restore_best_weights=True),\n",
        "            ]"
      ],
      "metadata": {
        "id": "lNtrtl8zFStW"
      },
      "execution_count": null,
      "outputs": []
    },
    {
      "cell_type": "code",
      "source": [
        "model.compile(loss='categorical_crossentropy', optimizer='adam', metrics=['accuracy'])\n",
        "model.summary()"
      ],
      "metadata": {
        "colab": {
          "base_uri": "https://localhost:8080/"
        },
        "id": "2HdX6U_IFaK8",
        "outputId": "d3f0a458-70e6-4465-9c4c-03583900818a"
      },
      "execution_count": null,
      "outputs": [
        {
          "output_type": "stream",
          "name": "stdout",
          "text": [
            "Model: \"sequential_41\"\n",
            "_________________________________________________________________\n",
            " Layer (type)                Output Shape              Param #   \n",
            "=================================================================\n",
            " conv2d_6 (Conv2D)           (None, 28, 28, 32)        320       \n",
            "                                                                 \n",
            " conv2d_7 (Conv2D)           (None, 28, 28, 32)        9248      \n",
            "                                                                 \n",
            " batch_normalization_6 (Batc  (None, 28, 28, 32)       128       \n",
            " hNormalization)                                                 \n",
            "                                                                 \n",
            " max_pooling2d_3 (MaxPooling  (None, 14, 14, 32)       0         \n",
            " 2D)                                                             \n",
            "                                                                 \n",
            " dropout_12 (Dropout)        (None, 14, 14, 32)        0         \n",
            "                                                                 \n",
            " conv2d_8 (Conv2D)           (None, 14, 14, 64)        18496     \n",
            "                                                                 \n",
            " conv2d_9 (Conv2D)           (None, 14, 14, 64)        36928     \n",
            "                                                                 \n",
            " batch_normalization_7 (Batc  (None, 14, 14, 64)       256       \n",
            " hNormalization)                                                 \n",
            "                                                                 \n",
            " max_pooling2d_4 (MaxPooling  (None, 7, 7, 64)         0         \n",
            " 2D)                                                             \n",
            "                                                                 \n",
            " dropout_13 (Dropout)        (None, 7, 7, 64)          0         \n",
            "                                                                 \n",
            " conv2d_10 (Conv2D)          (None, 7, 7, 128)         73856     \n",
            "                                                                 \n",
            " conv2d_11 (Conv2D)          (None, 7, 7, 128)         147584    \n",
            "                                                                 \n",
            " batch_normalization_8 (Batc  (None, 7, 7, 128)        512       \n",
            " hNormalization)                                                 \n",
            "                                                                 \n",
            " max_pooling2d_5 (MaxPooling  (None, 3, 3, 128)        0         \n",
            " 2D)                                                             \n",
            "                                                                 \n",
            " flatten_1 (Flatten)         (None, 1152)              0         \n",
            "                                                                 \n",
            " dropout_14 (Dropout)        (None, 1152)              0         \n",
            "                                                                 \n",
            " dense_147 (Dense)           (None, 512)               590336    \n",
            "                                                                 \n",
            " batch_normalization_9 (Batc  (None, 512)              2048      \n",
            " hNormalization)                                                 \n",
            "                                                                 \n",
            " dropout_15 (Dropout)        (None, 512)               0         \n",
            "                                                                 \n",
            " dense_148 (Dense)           (None, 256)               131328    \n",
            "                                                                 \n",
            " batch_normalization_10 (Bat  (None, 256)              1024      \n",
            " chNormalization)                                                \n",
            "                                                                 \n",
            " dropout_16 (Dropout)        (None, 256)               0         \n",
            "                                                                 \n",
            " dense_149 (Dense)           (None, 64)                16448     \n",
            "                                                                 \n",
            " batch_normalization_11 (Bat  (None, 64)               256       \n",
            " chNormalization)                                                \n",
            "                                                                 \n",
            " dropout_17 (Dropout)        (None, 64)                0         \n",
            "                                                                 \n",
            " dense_150 (Dense)           (None, 10)                650       \n",
            "                                                                 \n",
            "=================================================================\n",
            "Total params: 1,029,418\n",
            "Trainable params: 1,027,306\n",
            "Non-trainable params: 2,112\n",
            "_________________________________________________________________\n"
          ]
        }
      ]
    },
    {
      "cell_type": "code",
      "source": [
        "history = model.fit(train_ds, epochs=100, validation_data=valid_ds, callbacks=callbacks, verbose=1)"
      ],
      "metadata": {
        "colab": {
          "base_uri": "https://localhost:8080/"
        },
        "id": "gXxw8gA9FgPE",
        "outputId": "60ba1438-6c97-40b0-cd0a-d82634eb0f42"
      },
      "execution_count": null,
      "outputs": [
        {
          "output_type": "stream",
          "name": "stdout",
          "text": [
            "Epoch 1/100\n",
            "1875/1875 [==============================] - 20s 9ms/step - loss: 0.9727 - accuracy: 0.6903 - val_loss: 0.6648 - val_accuracy: 0.7974 - lr: 0.0010\n",
            "Epoch 2/100\n",
            "1875/1875 [==============================] - 16s 9ms/step - loss: 0.6410 - accuracy: 0.8153 - val_loss: 0.5227 - val_accuracy: 0.8590 - lr: 0.0010\n",
            "Epoch 3/100\n",
            "1875/1875 [==============================] - 16s 9ms/step - loss: 0.5573 - accuracy: 0.8495 - val_loss: 0.4519 - val_accuracy: 0.8814 - lr: 0.0010\n",
            "Epoch 4/100\n",
            "1875/1875 [==============================] - 16s 9ms/step - loss: 0.5162 - accuracy: 0.8646 - val_loss: 0.4372 - val_accuracy: 0.8924 - lr: 0.0010\n",
            "Epoch 5/100\n",
            "1875/1875 [==============================] - 16s 8ms/step - loss: 0.4883 - accuracy: 0.8770 - val_loss: 0.4233 - val_accuracy: 0.9018 - lr: 0.0010\n",
            "Epoch 6/100\n",
            "1875/1875 [==============================] - 16s 8ms/step - loss: 0.4722 - accuracy: 0.8812 - val_loss: 0.4078 - val_accuracy: 0.9044 - lr: 0.0010\n",
            "Epoch 7/100\n",
            "1875/1875 [==============================] - 17s 9ms/step - loss: 0.4579 - accuracy: 0.8871 - val_loss: 0.3760 - val_accuracy: 0.9138 - lr: 0.0010\n",
            "Epoch 8/100\n",
            "1875/1875 [==============================] - 16s 9ms/step - loss: 0.4394 - accuracy: 0.8928 - val_loss: 0.3768 - val_accuracy: 0.9116 - lr: 0.0010\n",
            "Epoch 9/100\n",
            "1875/1875 [==============================] - 16s 9ms/step - loss: 0.4333 - accuracy: 0.8940 - val_loss: 0.3900 - val_accuracy: 0.9084 - lr: 0.0010\n",
            "Epoch 10/100\n",
            "1875/1875 [==============================] - 17s 9ms/step - loss: 0.4194 - accuracy: 0.8980 - val_loss: 0.3572 - val_accuracy: 0.9196 - lr: 0.0010\n",
            "Epoch 11/100\n",
            "1875/1875 [==============================] - 16s 9ms/step - loss: 0.4151 - accuracy: 0.8995 - val_loss: 0.3634 - val_accuracy: 0.9132 - lr: 0.0010\n",
            "Epoch 12/100\n",
            "1875/1875 [==============================] - 16s 9ms/step - loss: 0.4085 - accuracy: 0.9019 - val_loss: 0.3594 - val_accuracy: 0.9214 - lr: 0.0010\n",
            "Epoch 13/100\n",
            "1875/1875 [==============================] - 16s 9ms/step - loss: 0.3975 - accuracy: 0.9050 - val_loss: 0.3766 - val_accuracy: 0.9122 - lr: 0.0010\n",
            "Epoch 14/100\n",
            "1875/1875 [==============================] - 17s 9ms/step - loss: 0.3591 - accuracy: 0.9154 - val_loss: 0.3156 - val_accuracy: 0.9262 - lr: 1.0000e-04\n",
            "Epoch 15/100\n",
            "1875/1875 [==============================] - 16s 9ms/step - loss: 0.3384 - accuracy: 0.9193 - val_loss: 0.3037 - val_accuracy: 0.9282 - lr: 1.0000e-04\n",
            "Epoch 16/100\n",
            "1875/1875 [==============================] - 16s 9ms/step - loss: 0.3203 - accuracy: 0.9210 - val_loss: 0.2913 - val_accuracy: 0.9266 - lr: 1.0000e-04\n",
            "Epoch 17/100\n",
            "1875/1875 [==============================] - 16s 9ms/step - loss: 0.3083 - accuracy: 0.9236 - val_loss: 0.2811 - val_accuracy: 0.9300 - lr: 1.0000e-04\n",
            "Epoch 18/100\n",
            "1875/1875 [==============================] - 16s 9ms/step - loss: 0.2976 - accuracy: 0.9244 - val_loss: 0.2717 - val_accuracy: 0.9308 - lr: 1.0000e-04\n",
            "Epoch 19/100\n",
            "1875/1875 [==============================] - 16s 9ms/step - loss: 0.2882 - accuracy: 0.9257 - val_loss: 0.2660 - val_accuracy: 0.9298 - lr: 1.0000e-04\n",
            "Epoch 20/100\n",
            "1875/1875 [==============================] - 16s 9ms/step - loss: 0.2825 - accuracy: 0.9264 - val_loss: 0.2591 - val_accuracy: 0.9312 - lr: 1.0000e-04\n",
            "Epoch 21/100\n",
            "1875/1875 [==============================] - 17s 9ms/step - loss: 0.2712 - accuracy: 0.9275 - val_loss: 0.2541 - val_accuracy: 0.9324 - lr: 1.0000e-04\n",
            "Epoch 22/100\n",
            "1875/1875 [==============================] - 16s 9ms/step - loss: 0.2666 - accuracy: 0.9270 - val_loss: 0.2496 - val_accuracy: 0.9344 - lr: 1.0000e-04\n",
            "Epoch 23/100\n",
            "1875/1875 [==============================] - 16s 8ms/step - loss: 0.2594 - accuracy: 0.9291 - val_loss: 0.2468 - val_accuracy: 0.9336 - lr: 1.0000e-04\n",
            "Epoch 24/100\n",
            "1875/1875 [==============================] - 16s 9ms/step - loss: 0.2616 - accuracy: 0.9274 - val_loss: 0.2424 - val_accuracy: 0.9356 - lr: 1.0000e-04\n",
            "Epoch 25/100\n",
            "1875/1875 [==============================] - 16s 9ms/step - loss: 0.2525 - accuracy: 0.9302 - val_loss: 0.2385 - val_accuracy: 0.9346 - lr: 1.0000e-04\n",
            "Epoch 26/100\n",
            "1875/1875 [==============================] - 16s 9ms/step - loss: 0.2484 - accuracy: 0.9298 - val_loss: 0.2366 - val_accuracy: 0.9346 - lr: 1.0000e-04\n",
            "Epoch 27/100\n",
            "1875/1875 [==============================] - 16s 9ms/step - loss: 0.2460 - accuracy: 0.9308 - val_loss: 0.2337 - val_accuracy: 0.9368 - lr: 1.0000e-04\n",
            "Epoch 28/100\n",
            "1875/1875 [==============================] - 16s 9ms/step - loss: 0.2421 - accuracy: 0.9310 - val_loss: 0.2309 - val_accuracy: 0.9354 - lr: 1.0000e-04\n",
            "Epoch 29/100\n",
            "1875/1875 [==============================] - 16s 9ms/step - loss: 0.2399 - accuracy: 0.9322 - val_loss: 0.2306 - val_accuracy: 0.9362 - lr: 1.0000e-04\n",
            "Epoch 30/100\n",
            "1875/1875 [==============================] - 16s 9ms/step - loss: 0.2383 - accuracy: 0.9319 - val_loss: 0.2279 - val_accuracy: 0.9362 - lr: 1.0000e-04\n",
            "Epoch 31/100\n",
            "1875/1875 [==============================] - 16s 9ms/step - loss: 0.2336 - accuracy: 0.9322 - val_loss: 0.2263 - val_accuracy: 0.9350 - lr: 1.0000e-04\n",
            "Epoch 32/100\n",
            "1875/1875 [==============================] - 16s 9ms/step - loss: 0.2299 - accuracy: 0.9334 - val_loss: 0.2294 - val_accuracy: 0.9342 - lr: 1.0000e-04\n",
            "Epoch 33/100\n",
            "1875/1875 [==============================] - 16s 9ms/step - loss: 0.2312 - accuracy: 0.9326 - val_loss: 0.2288 - val_accuracy: 0.9354 - lr: 1.0000e-04\n",
            "Epoch 34/100\n",
            "1875/1875 [==============================] - 16s 9ms/step - loss: 0.2253 - accuracy: 0.9354 - val_loss: 0.2238 - val_accuracy: 0.9364 - lr: 1.0000e-04\n",
            "Epoch 35/100\n",
            "1875/1875 [==============================] - 17s 9ms/step - loss: 0.2249 - accuracy: 0.9351 - val_loss: 0.2222 - val_accuracy: 0.9384 - lr: 1.0000e-04\n",
            "Epoch 36/100\n",
            "1875/1875 [==============================] - 16s 9ms/step - loss: 0.2225 - accuracy: 0.9341 - val_loss: 0.2219 - val_accuracy: 0.9376 - lr: 1.0000e-04\n",
            "Epoch 37/100\n",
            "1875/1875 [==============================] - 16s 9ms/step - loss: 0.2203 - accuracy: 0.9348 - val_loss: 0.2193 - val_accuracy: 0.9382 - lr: 1.0000e-04\n",
            "Epoch 38/100\n",
            "1875/1875 [==============================] - 16s 9ms/step - loss: 0.2201 - accuracy: 0.9363 - val_loss: 0.2196 - val_accuracy: 0.9384 - lr: 1.0000e-04\n",
            "Epoch 39/100\n",
            "1875/1875 [==============================] - 16s 9ms/step - loss: 0.2146 - accuracy: 0.9371 - val_loss: 0.2196 - val_accuracy: 0.9386 - lr: 1.0000e-04\n",
            "Epoch 40/100\n",
            "1875/1875 [==============================] - 17s 9ms/step - loss: 0.2152 - accuracy: 0.9365 - val_loss: 0.2211 - val_accuracy: 0.9370 - lr: 1.0000e-04\n",
            "Epoch 41/100\n",
            "1875/1875 [==============================] - 16s 9ms/step - loss: 0.2123 - accuracy: 0.9366 - val_loss: 0.2180 - val_accuracy: 0.9398 - lr: 1.0000e-05\n",
            "Epoch 42/100\n",
            "1875/1875 [==============================] - 17s 9ms/step - loss: 0.2111 - accuracy: 0.9378 - val_loss: 0.2168 - val_accuracy: 0.9392 - lr: 1.0000e-05\n",
            "Epoch 43/100\n",
            "1875/1875 [==============================] - 16s 9ms/step - loss: 0.2106 - accuracy: 0.9375 - val_loss: 0.2170 - val_accuracy: 0.9392 - lr: 1.0000e-05\n",
            "Epoch 44/100\n",
            "1875/1875 [==============================] - 16s 9ms/step - loss: 0.2079 - accuracy: 0.9385 - val_loss: 0.2162 - val_accuracy: 0.9396 - lr: 1.0000e-05\n",
            "Epoch 45/100\n",
            "1875/1875 [==============================] - 16s 9ms/step - loss: 0.2070 - accuracy: 0.9385 - val_loss: 0.2154 - val_accuracy: 0.9386 - lr: 1.0000e-05\n",
            "Epoch 46/100\n",
            "1875/1875 [==============================] - 16s 9ms/step - loss: 0.2074 - accuracy: 0.9389 - val_loss: 0.2157 - val_accuracy: 0.9400 - lr: 1.0000e-05\n",
            "Epoch 47/100\n",
            "1875/1875 [==============================] - 16s 9ms/step - loss: 0.2057 - accuracy: 0.9390 - val_loss: 0.2155 - val_accuracy: 0.9392 - lr: 1.0000e-05\n",
            "Epoch 48/100\n",
            "1875/1875 [==============================] - 16s 9ms/step - loss: 0.2068 - accuracy: 0.9378 - val_loss: 0.2155 - val_accuracy: 0.9386 - lr: 1.0000e-05\n",
            "Epoch 49/100\n",
            "1875/1875 [==============================] - 17s 9ms/step - loss: 0.2046 - accuracy: 0.9391 - val_loss: 0.2154 - val_accuracy: 0.9386 - lr: 1.0000e-06\n",
            "Epoch 50/100\n",
            "1875/1875 [==============================] - 17s 9ms/step - loss: 0.2048 - accuracy: 0.9386 - val_loss: 0.2154 - val_accuracy: 0.9390 - lr: 1.0000e-06\n",
            "Epoch 51/100\n",
            "1875/1875 [==============================] - 16s 9ms/step - loss: 0.2046 - accuracy: 0.9390 - val_loss: 0.2152 - val_accuracy: 0.9392 - lr: 1.0000e-06\n",
            "Epoch 52/100\n",
            "1875/1875 [==============================] - 16s 9ms/step - loss: 0.2061 - accuracy: 0.9384 - val_loss: 0.2151 - val_accuracy: 0.9392 - lr: 1.0000e-06\n",
            "Epoch 53/100\n",
            "1875/1875 [==============================] - 16s 9ms/step - loss: 0.2051 - accuracy: 0.9394 - val_loss: 0.2148 - val_accuracy: 0.9396 - lr: 1.0000e-06\n",
            "Epoch 54/100\n",
            "1875/1875 [==============================] - 16s 9ms/step - loss: 0.2074 - accuracy: 0.9382 - val_loss: 0.2149 - val_accuracy: 0.9396 - lr: 1.0000e-06\n",
            "Epoch 55/100\n",
            "1875/1875 [==============================] - 16s 9ms/step - loss: 0.2053 - accuracy: 0.9394 - val_loss: 0.2151 - val_accuracy: 0.9396 - lr: 1.0000e-06\n",
            "Epoch 56/100\n",
            "1875/1875 [==============================] - 18s 9ms/step - loss: 0.2069 - accuracy: 0.9389 - val_loss: 0.2149 - val_accuracy: 0.9398 - lr: 1.0000e-06\n",
            "Epoch 57/100\n",
            "1875/1875 [==============================] - 16s 9ms/step - loss: 0.2022 - accuracy: 0.9407 - val_loss: 0.2148 - val_accuracy: 0.9396 - lr: 1.0000e-07\n",
            "Epoch 58/100\n",
            "1875/1875 [==============================] - 16s 9ms/step - loss: 0.2052 - accuracy: 0.9395 - val_loss: 0.2148 - val_accuracy: 0.9398 - lr: 1.0000e-07\n",
            "Epoch 59/100\n",
            "1875/1875 [==============================] - 16s 9ms/step - loss: 0.2015 - accuracy: 0.9402 - val_loss: 0.2147 - val_accuracy: 0.9396 - lr: 1.0000e-07\n",
            "Epoch 60/100\n",
            "1875/1875 [==============================] - 16s 9ms/step - loss: 0.2053 - accuracy: 0.9391 - val_loss: 0.2149 - val_accuracy: 0.9402 - lr: 1.0000e-08\n",
            "Epoch 61/100\n",
            "1875/1875 [==============================] - 16s 9ms/step - loss: 0.2025 - accuracy: 0.9397 - val_loss: 0.2149 - val_accuracy: 0.9396 - lr: 1.0000e-08\n",
            "Epoch 62/100\n",
            "1875/1875 [==============================] - 16s 9ms/step - loss: 0.2050 - accuracy: 0.9393 - val_loss: 0.2147 - val_accuracy: 0.9396 - lr: 1.0000e-08\n",
            "Epoch 63/100\n",
            "1875/1875 [==============================] - 17s 9ms/step - loss: 0.2044 - accuracy: 0.9391 - val_loss: 0.2149 - val_accuracy: 0.9398 - lr: 1.0000e-09\n",
            "Epoch 64/100\n",
            "1875/1875 [==============================] - 16s 9ms/step - loss: 0.2052 - accuracy: 0.9391 - val_loss: 0.2146 - val_accuracy: 0.9396 - lr: 1.0000e-09\n",
            "Epoch 65/100\n",
            "1875/1875 [==============================] - 17s 9ms/step - loss: 0.2047 - accuracy: 0.9390 - val_loss: 0.2146 - val_accuracy: 0.9398 - lr: 1.0000e-09\n",
            "Epoch 66/100\n",
            "1875/1875 [==============================] - 16s 9ms/step - loss: 0.2044 - accuracy: 0.9396 - val_loss: 0.2148 - val_accuracy: 0.9398 - lr: 1.0000e-09\n",
            "Epoch 67/100\n",
            "1875/1875 [==============================] - 16s 9ms/step - loss: 0.2044 - accuracy: 0.9395 - val_loss: 0.2148 - val_accuracy: 0.9396 - lr: 1.0000e-09\n",
            "Epoch 68/100\n",
            "1875/1875 [==============================] - 16s 9ms/step - loss: 0.2042 - accuracy: 0.9396 - val_loss: 0.2149 - val_accuracy: 0.9398 - lr: 1.0000e-10\n",
            "Epoch 69/100\n",
            "1875/1875 [==============================] - 19s 10ms/step - loss: 0.2071 - accuracy: 0.9397 - val_loss: 0.2148 - val_accuracy: 0.9398 - lr: 1.0000e-10\n",
            "Epoch 70/100\n",
            "1875/1875 [==============================] - 23s 12ms/step - loss: 0.2044 - accuracy: 0.9405 - val_loss: 0.2146 - val_accuracy: 0.9400 - lr: 1.0000e-10\n",
            "Epoch 71/100\n",
            "1875/1875 [==============================] - 18s 9ms/step - loss: 0.2032 - accuracy: 0.9402 - val_loss: 0.2147 - val_accuracy: 0.9398 - lr: 1.0000e-11\n"
          ]
        }
      ]
    },
    {
      "cell_type": "code",
      "source": [
        "model.evaluate(test_ds)\n",
        "# необходимо подбирать гиперпараметры: можно выжать до 95% accuracy"
      ],
      "metadata": {
        "colab": {
          "base_uri": "https://localhost:8080/"
        },
        "id": "BqMkGdyGFw7c",
        "outputId": "e97332e8-bd93-406e-d1cf-06ed6f2972e6"
      },
      "execution_count": null,
      "outputs": [
        {
          "output_type": "stream",
          "name": "stdout",
          "text": [
            "157/157 [==============================] - 1s 4ms/step - loss: 0.2099 - accuracy: 0.9364\n"
          ]
        },
        {
          "output_type": "execute_result",
          "data": {
            "text/plain": [
              "[0.20985166728496552, 0.9363999962806702]"
            ]
          },
          "metadata": {},
          "execution_count": 168
        }
      ]
    },
    {
      "cell_type": "markdown",
      "source": [
        "### Transfer Learning & Augmentation"
      ],
      "metadata": {
        "id": "nTLF9z_EXu8n"
      }
    },
    {
      "cell_type": "code",
      "source": [
        "from tensorflow.keras.backend import resize_images"
      ],
      "metadata": {
        "id": "3vBrIVchbUwS"
      },
      "execution_count": null,
      "outputs": []
    },
    {
      "cell_type": "code",
      "source": [
        "(train_images,train_labels),(test_images, test_labels) = fashion_mnist.load_data()\n",
        "\n",
        "train_images = np.expand_dims(train_images, -1)\n",
        "test_images = np.expand_dims(test_images, -1)\n",
        "\n",
        "y_train, y_test = to_categorical(train_labels), to_categorical(test_labels)"
      ],
      "metadata": {
        "id": "mBO37BYzXuHq"
      },
      "execution_count": null,
      "outputs": []
    },
    {
      "cell_type": "code",
      "source": [
        "train_images = np.repeat((train_images / 127.5) - 1, 3, -1)\n",
        "test_images = np.repeat((test_images / 127.5) - 1, 3, -1)"
      ],
      "metadata": {
        "id": "K2IFsuhSXuE-"
      },
      "execution_count": null,
      "outputs": []
    },
    {
      "cell_type": "code",
      "source": [
        "valid_images, test_images, y_valid, y_test = train_test_split(test_images, y_test, test_size=0.5, random_state=42)"
      ],
      "metadata": {
        "id": "Z2dNV_0PXuCV"
      },
      "execution_count": null,
      "outputs": []
    },
    {
      "cell_type": "code",
      "source": [
        "data_augmentation = tf.keras.Sequential([\n",
        "  tf.keras.layers.RandomFlip(\"horizontal_and_vertical\"),\n",
        "  tf.keras.layers.RandomRotation(0.2),\n",
        "  tf.keras.layers.RandomContrast(0.1),\n",
        "  tf.keras.layers.GaussianNoise(0.05),\n",
        "])"
      ],
      "metadata": {
        "id": "OQ4di79bOjKS"
      },
      "execution_count": null,
      "outputs": []
    },
    {
      "cell_type": "code",
      "source": [
        "train_datagen = tf.keras.preprocessing.image.ImageDataGenerator( \n",
        "        rotation_range=10,       \n",
        "        width_shift_range=0.2,    \n",
        "        height_shift_range=0.2,   \n",
        "        shear_range=0.2,          \n",
        "        zoom_range=0.2,           \n",
        "        horizontal_flip=True,\n",
        "        fill_mode='nearest'      \n",
        "    )\n",
        "\n",
        "val_datagen = tf.keras.preprocessing.image.ImageDataGenerator()\n",
        "test_datagen = tf.keras.preprocessing.image.ImageDataGenerator()"
      ],
      "metadata": {
        "id": "rG2bT0DnOjsK"
      },
      "execution_count": null,
      "outputs": []
    },
    {
      "cell_type": "code",
      "source": [
        "train_generator = train_datagen.flow(train_images, y_train, \n",
        "                                     batch_size=batch_size,\n",
        "                                     seed=123)\n",
        "val_generator = train_datagen.flow(valid_images, y_valid, \n",
        "                                         batch_size=batch_size,\n",
        "                                         seed=123)\n",
        "test_generator = test_datagen.flow(test_images, y_test, \n",
        "                                   batch_size=batch_size,\n",
        "                                   seed=123)"
      ],
      "metadata": {
        "id": "d-PVfouzO-mq"
      },
      "execution_count": null,
      "outputs": []
    },
    {
      "cell_type": "code",
      "source": [
        "input_image = Input(shape=(28, 28, 3))\n",
        "resized_image = Lambda(lambda image: resize_images(x=image, height_factor=2, width_factor=2, data_format='channels_last'))(input_image)"
      ],
      "metadata": {
        "id": "c43wzR3Ja-ma"
      },
      "execution_count": null,
      "outputs": []
    },
    {
      "cell_type": "code",
      "source": [
        "# base_model = tf.keras.applications.ResNet50V2(include_top=False, weights=\"imagenet\", input_tensor=resized_image)\n",
        "base_model = tf.keras.applications.MobileNet(include_top=False, weights=\"imagenet\", input_tensor=resized_image)"
      ],
      "metadata": {
        "colab": {
          "base_uri": "https://localhost:8080/"
        },
        "id": "bzfTXtx8blDx",
        "outputId": "7d521324-dee6-4d9b-ba77-ca856bc7a4f0"
      },
      "execution_count": null,
      "outputs": [
        {
          "output_type": "stream",
          "name": "stderr",
          "text": [
            "WARNING:tensorflow:`input_shape` is undefined or non-square, or `rows` is not in [128, 160, 192, 224]. Weights for input shape (224, 224) will be loaded as the default.\n"
          ]
        },
        {
          "output_type": "stream",
          "name": "stdout",
          "text": [
            "Downloading data from https://storage.googleapis.com/tensorflow/keras-applications/mobilenet/mobilenet_1_0_224_tf_no_top.h5\n",
            "17227776/17225924 [==============================] - 0s 0us/step\n",
            "17235968/17225924 [==============================] - 0s 0us/step\n"
          ]
        }
      ]
    },
    {
      "cell_type": "code",
      "source": [
        "x = base_model.output\n",
        "\n",
        "x = tf.keras.layers.Dropout(0.5)(x)\n",
        "x = tf.keras.layers.GlobalAveragePooling2D()(x)\n",
        "\n",
        "predictions = Dense(10, activation='softmax')(x)\n",
        "\n",
        "model = tf.keras.Model(inputs=base_model.input, outputs=predictions, name='resnet')"
      ],
      "metadata": {
        "id": "sHHMuDOebzJN"
      },
      "execution_count": null,
      "outputs": []
    },
    {
      "cell_type": "code",
      "source": [
        "model.compile(optimizer='adam', loss='categorical_crossentropy', metrics=['accuracy'])"
      ],
      "metadata": {
        "id": "axsBhvlxcQ79"
      },
      "execution_count": null,
      "outputs": []
    },
    {
      "cell_type": "code",
      "source": [
        "callbacks = [\n",
        "             tf.keras.callbacks.ReduceLROnPlateau(patience=3),\n",
        "             tf.keras.callbacks.EarlyStopping(monitor='val_loss', patience=6, restore_best_weights=True),\n",
        "            ]"
      ],
      "metadata": {
        "id": "di_eUgtDcUVi"
      },
      "execution_count": null,
      "outputs": []
    },
    {
      "cell_type": "code",
      "source": [
        "for layer in model.layers[:87]:  # 191 for resnet\n",
        "    layer.trainable = False"
      ],
      "metadata": {
        "id": "qmetVEl5cYj6"
      },
      "execution_count": null,
      "outputs": []
    },
    {
      "cell_type": "code",
      "source": [
        "history = model.fit(train_generator, epochs=100, validation_data=val_generator, callbacks=callbacks, verbose=1)"
      ],
      "metadata": {
        "colab": {
          "base_uri": "https://localhost:8080/"
        },
        "id": "lvQkaiWXdN-A",
        "outputId": "f2d9283e-dd4d-4be3-95e8-dd7abfa057e7"
      },
      "execution_count": null,
      "outputs": [
        {
          "output_type": "stream",
          "name": "stdout",
          "text": [
            "Epoch 1/100\n",
            "1875/1875 [==============================] - 53s 26ms/step - loss: 0.8456 - accuracy: 0.7400 - val_loss: 0.5157 - val_accuracy: 0.8200 - lr: 0.0010\n",
            "Epoch 2/100\n",
            "1875/1875 [==============================] - 48s 25ms/step - loss: 0.5683 - accuracy: 0.8123 - val_loss: 0.5449 - val_accuracy: 0.8146 - lr: 0.0010\n",
            "Epoch 3/100\n",
            "1875/1875 [==============================] - 49s 26ms/step - loss: 0.5257 - accuracy: 0.8275 - val_loss: 0.3940 - val_accuracy: 0.8564 - lr: 0.0010\n",
            "Epoch 4/100\n",
            "1875/1875 [==============================] - 49s 26ms/step - loss: 0.4645 - accuracy: 0.8463 - val_loss: 0.4664 - val_accuracy: 0.8378 - lr: 0.0010\n",
            "Epoch 5/100\n",
            "1875/1875 [==============================] - 50s 27ms/step - loss: 0.4394 - accuracy: 0.8543 - val_loss: 0.3925 - val_accuracy: 0.8650 - lr: 0.0010\n",
            "Epoch 6/100\n",
            "1875/1875 [==============================] - 49s 26ms/step - loss: 0.4134 - accuracy: 0.8615 - val_loss: 0.3651 - val_accuracy: 0.8666 - lr: 0.0010\n",
            "Epoch 7/100\n",
            "1875/1875 [==============================] - 47s 25ms/step - loss: 0.3970 - accuracy: 0.8689 - val_loss: 0.3242 - val_accuracy: 0.8862 - lr: 0.0010\n",
            "Epoch 8/100\n",
            "1875/1875 [==============================] - 52s 28ms/step - loss: 0.3749 - accuracy: 0.8748 - val_loss: 0.3163 - val_accuracy: 0.8878 - lr: 0.0010\n",
            "Epoch 9/100\n",
            "1875/1875 [==============================] - 49s 26ms/step - loss: 0.3507 - accuracy: 0.8823 - val_loss: 0.3177 - val_accuracy: 0.8850 - lr: 0.0010\n",
            "Epoch 10/100\n",
            "1875/1875 [==============================] - 49s 26ms/step - loss: 0.3551 - accuracy: 0.8829 - val_loss: 0.4220 - val_accuracy: 0.8478 - lr: 0.0010\n",
            "Epoch 11/100\n",
            "1875/1875 [==============================] - 48s 26ms/step - loss: 0.3240 - accuracy: 0.8913 - val_loss: 0.2831 - val_accuracy: 0.9018 - lr: 0.0010\n",
            "Epoch 12/100\n",
            "1875/1875 [==============================] - 49s 26ms/step - loss: 0.3201 - accuracy: 0.8922 - val_loss: 0.2805 - val_accuracy: 0.9000 - lr: 0.0010\n",
            "Epoch 13/100\n",
            "1875/1875 [==============================] - 47s 25ms/step - loss: 0.3177 - accuracy: 0.8942 - val_loss: 0.3027 - val_accuracy: 0.8930 - lr: 0.0010\n",
            "Epoch 14/100\n",
            "1875/1875 [==============================] - 47s 25ms/step - loss: 0.3032 - accuracy: 0.8991 - val_loss: 0.2862 - val_accuracy: 0.8964 - lr: 0.0010\n",
            "Epoch 15/100\n",
            "1875/1875 [==============================] - 48s 26ms/step - loss: 0.2979 - accuracy: 0.9004 - val_loss: 0.2835 - val_accuracy: 0.9022 - lr: 0.0010\n",
            "Epoch 16/100\n",
            "1875/1875 [==============================] - 48s 25ms/step - loss: 0.2493 - accuracy: 0.9148 - val_loss: 0.2430 - val_accuracy: 0.9130 - lr: 1.0000e-04\n",
            "Epoch 17/100\n",
            "1875/1875 [==============================] - 49s 26ms/step - loss: 0.2361 - accuracy: 0.9174 - val_loss: 0.2416 - val_accuracy: 0.9146 - lr: 1.0000e-04\n",
            "Epoch 18/100\n",
            "1875/1875 [==============================] - 49s 26ms/step - loss: 0.2298 - accuracy: 0.9197 - val_loss: 0.2386 - val_accuracy: 0.9168 - lr: 1.0000e-04\n",
            "Epoch 19/100\n",
            "1875/1875 [==============================] - 49s 26ms/step - loss: 0.2243 - accuracy: 0.9204 - val_loss: 0.2392 - val_accuracy: 0.9206 - lr: 1.0000e-04\n",
            "Epoch 20/100\n",
            "1875/1875 [==============================] - 47s 25ms/step - loss: 0.2195 - accuracy: 0.9226 - val_loss: 0.2251 - val_accuracy: 0.9168 - lr: 1.0000e-04\n",
            "Epoch 21/100\n",
            "1875/1875 [==============================] - 50s 27ms/step - loss: 0.2158 - accuracy: 0.9243 - val_loss: 0.2225 - val_accuracy: 0.9252 - lr: 1.0000e-04\n",
            "Epoch 22/100\n",
            "1875/1875 [==============================] - 61s 32ms/step - loss: 0.2155 - accuracy: 0.9243 - val_loss: 0.2194 - val_accuracy: 0.9282 - lr: 1.0000e-04\n",
            "Epoch 23/100\n",
            "1875/1875 [==============================] - 48s 26ms/step - loss: 0.2099 - accuracy: 0.9260 - val_loss: 0.2347 - val_accuracy: 0.9190 - lr: 1.0000e-04\n",
            "Epoch 24/100\n",
            "1875/1875 [==============================] - 49s 26ms/step - loss: 0.2104 - accuracy: 0.9259 - val_loss: 0.2210 - val_accuracy: 0.9218 - lr: 1.0000e-04\n",
            "Epoch 25/100\n",
            "1875/1875 [==============================] - 47s 25ms/step - loss: 0.2084 - accuracy: 0.9265 - val_loss: 0.2245 - val_accuracy: 0.9222 - lr: 1.0000e-04\n",
            "Epoch 26/100\n",
            "1875/1875 [==============================] - 48s 26ms/step - loss: 0.2025 - accuracy: 0.9287 - val_loss: 0.2212 - val_accuracy: 0.9240 - lr: 1.0000e-05\n",
            "Epoch 27/100\n",
            "1875/1875 [==============================] - 47s 25ms/step - loss: 0.2033 - accuracy: 0.9273 - val_loss: 0.2236 - val_accuracy: 0.9230 - lr: 1.0000e-05\n",
            "Epoch 28/100\n",
            "1875/1875 [==============================] - 47s 25ms/step - loss: 0.2013 - accuracy: 0.9286 - val_loss: 0.2254 - val_accuracy: 0.9210 - lr: 1.0000e-05\n"
          ]
        }
      ]
    },
    {
      "cell_type": "code",
      "source": [
        "model.evaluate(test_generator)\n",
        "# не лучший результат, возможно, не имеет смысла применять к таким маленьким монотонным картинкам глубокие сети (либо быть осторожнее с аугментацией)"
      ],
      "metadata": {
        "colab": {
          "base_uri": "https://localhost:8080/"
        },
        "id": "jwDXDX1RlMdF",
        "outputId": "a79367ed-d150-43e2-a4e1-b7e7d2d6a9b0"
      },
      "execution_count": null,
      "outputs": [
        {
          "output_type": "stream",
          "name": "stdout",
          "text": [
            "157/157 [==============================] - 1s 7ms/step - loss: 0.2426 - accuracy: 0.9176\n"
          ]
        },
        {
          "output_type": "execute_result",
          "data": {
            "text/plain": [
              "[0.24264098703861237, 0.9175999760627747]"
            ]
          },
          "metadata": {},
          "execution_count": 257
        }
      ]
    }
  ]
}